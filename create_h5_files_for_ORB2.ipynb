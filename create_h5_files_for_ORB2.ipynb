{
 "cells": [
  {
   "cell_type": "code",
   "execution_count": 10,
   "metadata": {},
   "outputs": [],
   "source": [
    "import h5py\n",
    "import os\n",
    "from tqdm import tqdm"
   ]
  },
  {
   "cell_type": "code",
   "execution_count": 15,
   "metadata": {},
   "outputs": [],
   "source": [
    "feature_path = '/media/cds-s/data/Datasets/Habitat/FBoW/keypoints_all_maps.h5'\n",
    "path_with_kepoint_files = '/home/cds-s/workspace/temp/openvslam/keypoints/'"
   ]
  },
  {
   "cell_type": "code",
   "execution_count": 17,
   "metadata": {},
   "outputs": [],
   "source": [
    "# os.remove(feature_path)\n",
    "# feature_file = h5py.File(str(feature_path), 'w')\n",
    "feature_file = h5py.File(str(feature_path), 'a')"
   ]
  },
  {
   "cell_type": "code",
   "execution_count": 18,
   "metadata": {},
   "outputs": [
    {
     "name": "stderr",
     "output_type": "stream",
     "text": [
      "100%|██████████| 86678/86678 [04:51<00:00, 297.01it/s]\n"
     ]
    }
   ],
   "source": [
    "for filename in tqdm(os.listdir(path_with_kepoint_files)):\n",
    "    grp = feature_file.create_group(filename.rstrip('_keypoints.txt'))\n",
    "    with open(os.path.join(path_with_kepoint_files, filename)) as f:\n",
    "        lines = f.readlines()\n",
    "    keypoints = []\n",
    "    for line in lines:\n",
    "        line = line.replace(',', '.')\n",
    "        x, y = line.split(' ')\n",
    "        keypoints.append([float(x), float(y)])\n",
    "    grp.create_dataset(\"keypoints\", data=keypoints)   \n",
    "feature_file.close()"
   ]
  },
  {
   "cell_type": "code",
   "execution_count": 20,
   "metadata": {},
   "outputs": [],
   "source": [
    "matchfile_path = '/media/cds-s/data/Datasets/Habitat/FBoW/matches_all_maps.h5'\n",
    "path_with_matches_files = '/home/cds-s/workspace/temp/openvslam/matches/'"
   ]
  },
  {
   "cell_type": "code",
   "execution_count": 21,
   "metadata": {},
   "outputs": [],
   "source": [
    "# os.remove(matchfile_path)\n",
    "match_file = h5py.File(str(matchfile_path), 'w')\n",
    "# match_file = h5py.File(str(matchfile_path), 'a')"
   ]
  },
  {
   "cell_type": "code",
   "execution_count": 22,
   "metadata": {},
   "outputs": [
    {
     "name": "stderr",
     "output_type": "stream",
     "text": [
      "100%|██████████| 76136/76136 [01:34<00:00, 803.96it/s]\n"
     ]
    }
   ],
   "source": [
    "for filename in tqdm(os.listdir(path_with_matches_files)):\n",
    "    grp = match_file.create_group(filename.rstrip('_matches.txt'))\n",
    "    with open(os.path.join(path_with_matches_files, filename)) as f:\n",
    "        lines = f.readlines()\n",
    "    matches = []\n",
    "    for line in lines:\n",
    "        match = int(line)\n",
    "        matches.append(match)\n",
    "    grp.create_dataset(\"matches0\", data=matches) \n",
    "match_file.close()"
   ]
  },
  {
   "cell_type": "code",
   "execution_count": null,
   "metadata": {},
   "outputs": [],
   "source": []
  }
 ],
 "metadata": {
  "kernelspec": {
   "display_name": "Python 3",
   "language": "python",
   "name": "python3"
  },
  "language_info": {
   "codemirror_mode": {
    "name": "ipython",
    "version": 3
   },
   "file_extension": ".py",
   "mimetype": "text/x-python",
   "name": "python",
   "nbconvert_exporter": "python",
   "pygments_lexer": "ipython3",
   "version": "3.7.11"
  }
 },
 "nbformat": 4,
 "nbformat_minor": 4
}
