{
 "cells": [
  {
   "cell_type": "code",
   "execution_count": 60,
   "metadata": {},
   "outputs": [],
   "source": [
    "import h5py\n",
    "import matplotlib\n",
    "import matplotlib.pyplot as plt\n",
    "# from habitat.utils.visualizations import maps\n",
    "import matplotlib.colors as mcolors\n",
    "from matplotlib.colors import LinearSegmentedColormap\n",
    "import numpy as np\n",
    "import os\n",
    "import cv2\n",
    "import ast\n",
    "from scipy.spatial.transform import Rotation as R\n",
    "from tqdm import tqdm\n",
    "from PIL import Image"
   ]
  },
  {
   "cell_type": "code",
   "execution_count": 61,
   "metadata": {},
   "outputs": [],
   "source": [
    "dir_with_hdf5_datasets = '/media/cds-s/data/Datasets/Habitat/test_10_25_depth_0_100/dataset_hdf5/'"
   ]
  },
  {
   "cell_type": "code",
   "execution_count": 62,
   "metadata": {},
   "outputs": [],
   "source": [
    "T = np.array(dtype=np.float32, object=[\n",
    "    [1, 0, 0, 0],\n",
    "    [0, -1, 0, 0],\n",
    "    [1, 0, -1, 0],\n",
    "    [0, 0, 0, 1]\n",
    "])\n",
    "# T = np.eye(4)\n",
    "T_inv = np.linalg.inv(T)\n",
    "r = R.from_rotvec(np.pi * np.array([1, 0, 0]))"
   ]
  },
  {
   "cell_type": "code",
   "execution_count": 63,
   "metadata": {},
   "outputs": [],
   "source": [
    "def action_to_mat44(action, rot_delta, pos_delta):\n",
    "    if action == 0:\n",
    "        a = 0\n",
    "        d = 0\n",
    "    if action == 1:\n",
    "        a = 0\n",
    "        d = pos_delta\n",
    "    elif action == 2:\n",
    "        a = -rot_delta\n",
    "        d = 0\n",
    "    elif action == 3:\n",
    "        a = rot_delta\n",
    "        d = 0\n",
    "    a = np.pi * a / 180\n",
    "    d /= 100\n",
    "    T = np.array([\n",
    "        [np.cos(a), 0, np.sin(a), 0],\n",
    "        [0, 1, 0, 0],\n",
    "        [-np.sin(a), 0, np.cos(a), d],\n",
    "        [0, 0, 0, 1]\n",
    "    ])\n",
    "    return T"
   ]
  },
  {
   "cell_type": "code",
   "execution_count": 64,
   "metadata": {},
   "outputs": [
    {
     "name": "stderr",
     "output_type": "stream",
     "text": [
      "100%|██████████| 129/129 [08:23<00:00,  3.90s/it]\n"
     ]
    }
   ],
   "source": [
    "for filename_hdf5_dataset in tqdm(os.listdir(dir_with_hdf5_datasets)):\n",
    "    if filename_hdf5_dataset.find('.hdf5') == -1:\n",
    "        continue\n",
    "    rot_delta, pos_delta = map(float, filename_hdf5_dataset.split('_')[1:3])\n",
    "    \n",
    "    file = h5py.File(os.path.join(dir_with_hdf5_datasets, filename_hdf5_dataset), 'r')\n",
    "    output_path = dir_with_hdf5_datasets.rstrip('/')[:dir_with_hdf5_datasets.rstrip('/').rfind('/')]+'/datasets/'+ \\\n",
    "                  filename_hdf5_dataset[:filename_hdf5_dataset.rfind('.')]\n",
    "    \n",
    "    rgb = file['rgb']\n",
    "    depth = file['depth']\n",
    "    semantic = file['semantic']\n",
    "    objectgoal = file['objectgoal']\n",
    "    compass = file['compass']\n",
    "    gps = file['gps']\n",
    "    heading = file['heading']\n",
    "    top_down_map = file['top_down_map']\n",
    "    fog_of_war_mask = file['fog_of_war_mask']\n",
    "    agent_map_coord = file['agent_map_coord']\n",
    "    agent_angle = file['agent_angle']\n",
    "    mapping = np.array(file['mapping'])\n",
    "    index_to_title_map = ast.literal_eval(str(np.array(file['index_to_title_map']))[2:-1])\n",
    "    positions = file['position']\n",
    "    rotations = file['rotation']\n",
    "    actions = file['action']\n",
    "    \n",
    "    os.makedirs(os.path.join(output_path,'rgb'), exist_ok=True)\n",
    "    os.makedirs(os.path.join(output_path,'depth'), exist_ok=True)\n",
    "    depth_file = open(os.path.join(output_path, 'depth.txt'), 'w')\n",
    "    rgb_file = open(os.path.join(output_path, 'rgb.txt'), 'w')\n",
    "    gt_filename = '/media/cds-s/data/Datasets/Habitat/gt/'\n",
    "    gt_filename = gt_filename+filename_hdf5_dataset[:filename_hdf5_dataset.rfind('.')] + '.txt'\n",
    "    gt_file = open(gt_filename, 'w')\n",
    "    rgb_file.close()\n",
    "    depth_file.close()\n",
    "    gt_file.close()\n",
    "    depth_file = open(os.path.join(output_path, 'depth.txt'), 'a')\n",
    "    rgb_file = open(os.path.join(output_path, 'rgb.txt'), 'a')\n",
    "    gt_file = open(gt_filename, 'a')\n",
    "    action_file = open(os.path.join(output_path, 'control.txt'), 'w')\n",
    "    for i in range(3):\n",
    "        depth_file.write('ignore\\n')\n",
    "        rgb_file.write('ignore\\n')\n",
    "    for i in range(0, len(rgb)):\n",
    "        cv2.imwrite(os.path.join(output_path, 'rgb', str(i).zfill(6)+'.png'), rgb[i])\n",
    "        \n",
    "        depth_image = 100 * depth[i]\n",
    "        \n",
    "        cv2.imwrite(os.path.join(output_path, 'depth', str(i).zfill(6)+'.exr'), depth_image)\n",
    "        rgb_file.write('{:.3f} '.format(i/10))\n",
    "        rgb_file.write('rgb/'+str(i).zfill(6)+'.png\\n')\n",
    "        depth_file.write('{:.3f} '.format(i/10))\n",
    "        depth_file.write('depth/'+str(i).zfill(6)+'.exr\\n')\n",
    "        \n",
    "        X, Y, Z = positions[i]\n",
    "        w, x, y, z = rotations[i]\n",
    "        \n",
    "        x, y, z, w = (R.from_quat([x, y, z, w]) * r).as_quat()\n",
    "        \n",
    "#         pose = np.eye(4)\n",
    "#         pose[:3, :3] = (R.from_quat([x, y, z, w])).as_matrix()\n",
    "#         pose[:3, 3] = [X, Y, Z]\n",
    "        \n",
    "#         pose = T_inv @ pose @ T\n",
    "#         if i == 3:\n",
    "#             pose_3 = pose.copy()\n",
    "#             pose_3_inv = np.linalg.inv(pose_3)\n",
    "#         pose = pose_3 @ pose @ pose_3_inv\n",
    "        \n",
    "#         x, y, z, w = R.from_matrix(pose[:3, :3]).as_quat()\n",
    "#         X, Y, Z = pose[:3, 3]\n",
    "        \n",
    "        gt_file.write('{:.3f} {:.8e} {:.8e} {:.8e} {:.8e} {:.8e} {:.8e} {:.8e}\\n'\\\n",
    "              .format(i/10, X, Y, Z, x, y, z, w))\n",
    "        \n",
    "#         gt_file.write('{:.3f} {:.8e} {:.8e} {:.8e} {:.8e} {:.8e} {:.8e} {:.8e}\\n'\\\n",
    "#                       .format(i/10, -positions[i, 0], positions[i, 1], -positions[i, 2],\n",
    "#                         rotations[i, 0], rotations[i, 1], rotations[i, 2], rotations[i, 3]))\n",
    "#         gt_file.write('{:.3f} {:.8e} {:.8e} {:.8e} {:.8e} {:.8e} {:.8e} {:.8e}\\n'\\\n",
    "#                       .format(i/10, pose[0, 3], pose[1, 3], pose[2, 3], \\\n",
    "#                               quat_pose[0], quat_pose[1], quat_pose[2], quat_pose[3]))\n",
    "        \n",
    "        action_file.write('{:.3f} '.format(i/10))\n",
    "#         action_file.write('{:d} '.format(actions[i - 1]))\n",
    "        action_file.write(('{:.8e} ' * 12 + '\\n').format(*action_to_mat44(actions[i], rot_delta, pos_delta)[:3].flatten()))\n",
    "    \n",
    "    rgb_file.close()\n",
    "    depth_file.close()\n",
    "    gt_file.close()\n",
    "    action_file.close()"
   ]
  },
  {
   "cell_type": "code",
   "execution_count": 46,
   "metadata": {},
   "outputs": [
    {
     "data": {
      "text/plain": [
       "<KeysViewHDF5 ['action', 'agent_angle', 'agent_map_coord', 'compass', 'depth', 'fog_of_war_mask', 'gps', 'heading', 'index_to_title_map', 'mapping', 'objectgoal', 'position', 'rgb', 'rotation', 'semantic', 'top_down_map']>"
      ]
     },
     "execution_count": 46,
     "metadata": {},
     "output_type": "execute_result"
    }
   ],
   "source": [
    "file.keys()"
   ]
  },
  {
   "cell_type": "code",
   "execution_count": 23,
   "metadata": {},
   "outputs": [
    {
     "data": {
      "text/plain": [
       "(0.0, 0.09805029)"
      ]
     },
     "execution_count": 23,
     "metadata": {},
     "output_type": "execute_result"
    }
   ],
   "source": [
    "depth[i].min(), depth[i].max()"
   ]
  },
  {
   "cell_type": "code",
   "execution_count": 18,
   "metadata": {},
   "outputs": [
    {
     "data": {
      "text/plain": [
       "0.8368701171874999"
      ]
     },
     "execution_count": 18,
     "metadata": {},
     "output_type": "execute_result"
    }
   ],
   "source": [
    "np.isfinite(depth_image).sum() / depth_image.shape[0] / depth_image.shape[1]"
   ]
  },
  {
   "cell_type": "code",
   "execution_count": 25,
   "metadata": {},
   "outputs": [
    {
     "data": {
      "text/plain": [
       "array([0.        , 0.88368756, 0.        , 0.46807724])"
      ]
     },
     "execution_count": 25,
     "metadata": {},
     "output_type": "execute_result"
    }
   ],
   "source": [
    "quat_pose"
   ]
  },
  {
   "cell_type": "code",
   "execution_count": 27,
   "metadata": {},
   "outputs": [
    {
     "ename": "AttributeError",
     "evalue": "'numpy.ndarray' object has no attribute 'as_quat'",
     "output_type": "error",
     "traceback": [
      "\u001b[0;31m---------------------------------------------------------------------------\u001b[0m",
      "\u001b[0;31mAttributeError\u001b[0m                            Traceback (most recent call last)",
      "\u001b[0;32m<ipython-input-27-56b5543a4853>\u001b[0m in \u001b[0;36m<module>\u001b[0;34m\u001b[0m\n\u001b[0;32m----> 1\u001b[0;31m \u001b[0mquat_pose\u001b[0m\u001b[0;34m.\u001b[0m\u001b[0mas_quat\u001b[0m\u001b[0;34m(\u001b[0m\u001b[0;34m)\u001b[0m\u001b[0;34m\u001b[0m\u001b[0m\n\u001b[0m",
      "\u001b[0;31mAttributeError\u001b[0m: 'numpy.ndarray' object has no attribute 'as_quat'"
     ]
    }
   ],
   "source": [
    "quat_pose.as_quat()"
   ]
  },
  {
   "cell_type": "code",
   "execution_count": 44,
   "metadata": {},
   "outputs": [],
   "source": [
    "pose = np.eye(4)\n",
    "pose[:3, :3] = R.from_quat([rotations[i, 1], rotations[i, 2], rotations[i, 3], rotations[i, 0]]).as_matrix()\n",
    "pose[:3, 3] = [positions[i, 2], positions[i, 0], positions[i, 1]]"
   ]
  },
  {
   "cell_type": "code",
   "execution_count": 50,
   "metadata": {},
   "outputs": [
    {
     "data": {
      "text/plain": [
       "array([ 0.88368756,  0.        ,  0.        , -0.46807724])"
      ]
     },
     "execution_count": 50,
     "metadata": {},
     "output_type": "execute_result"
    }
   ],
   "source": [
    "R.from_matrix(pose[:3, :3]).as_quat()"
   ]
  },
  {
   "cell_type": "code",
   "execution_count": 32,
   "metadata": {},
   "outputs": [
    {
     "data": {
      "text/plain": [
       "array([[  0.89345827,   0.        ,  -0.10138863,   4.37532418],\n",
       "       [  0.        ,   1.        ,   0.        ,   0.18396711],\n",
       "       [  0.20277726,   0.        ,   1.09623553, -30.26972337],\n",
       "       [  0.        ,   0.        ,   0.        ,   1.        ]])"
      ]
     },
     "execution_count": 32,
     "metadata": {},
     "output_type": "execute_result"
    }
   ],
   "source": [
    "pose_3_inv"
   ]
  },
  {
   "cell_type": "code",
   "execution_count": 48,
   "metadata": {},
   "outputs": [
    {
     "data": {
      "text/plain": [
       "array([3, 3, 3, 3, 3, 3, 3, 3, 3, 3, 3, 3, 3, 3, 3, 1, 1, 1, 1, 3, 1, 1,\n",
       "       1, 1, 1, 3, 3, 1, 3, 1, 1, 1, 1, 1, 1, 3, 1, 1, 1, 3, 1, 1, 1, 1,\n",
       "       1, 1, 1, 1, 1, 1, 1, 1, 1, 1, 1, 1, 1, 1, 1, 1, 1, 1, 1, 1, 1, 1,\n",
       "       1, 1, 1, 1, 1, 1, 3, 1, 1, 1, 1, 1, 1, 1, 1, 1, 1, 1, 1, 1, 1, 3,\n",
       "       3, 3, 3, 1, 1, 1, 3, 1, 0])"
      ]
     },
     "execution_count": 48,
     "metadata": {},
     "output_type": "execute_result"
    }
   ],
   "source": [
    "file['action'][:]"
   ]
  },
  {
   "cell_type": "code",
   "execution_count": 21,
   "metadata": {},
   "outputs": [
    {
     "data": {
      "text/plain": [
       "True"
      ]
     },
     "execution_count": 21,
     "metadata": {},
     "output_type": "execute_result"
    }
   ],
   "source": [
    "'metrics' in ['metrics', 'yes']"
   ]
  },
  {
   "cell_type": "code",
   "execution_count": 24,
   "metadata": {},
   "outputs": [
    {
     "data": {
      "text/plain": [
       "array([1, 4, 9])"
      ]
     },
     "execution_count": 24,
     "metadata": {},
     "output_type": "execute_result"
    }
   ],
   "source": [
    "np.array([1,2,3])**2"
   ]
  },
  {
   "cell_type": "code",
   "execution_count": 66,
   "metadata": {},
   "outputs": [
    {
     "data": {
      "text/plain": [
       "0"
      ]
     },
     "execution_count": 66,
     "metadata": {},
     "output_type": "execute_result"
    }
   ],
   "source": [
    "int(False)"
   ]
  },
  {
   "cell_type": "code",
   "execution_count": 67,
   "metadata": {},
   "outputs": [
    {
     "name": "stderr",
     "output_type": "stream",
     "text": [
      "/home/cds-s/anaconda3/envs/python37/lib/python3.7/site-packages/numpy/core/fromnumeric.py:3335: RuntimeWarning: Mean of empty slice.\n",
      "  out=out, **kwargs)\n",
      "/home/cds-s/anaconda3/envs/python37/lib/python3.7/site-packages/numpy/core/_methods.py:161: RuntimeWarning: invalid value encountered in double_scalars\n",
      "  ret = ret.dtype.type(ret / rcount)\n"
     ]
    },
    {
     "data": {
      "text/plain": [
       "nan"
      ]
     },
     "execution_count": 67,
     "metadata": {},
     "output_type": "execute_result"
    }
   ],
   "source": [
    "np.mean([])"
   ]
  },
  {
   "cell_type": "code",
   "execution_count": null,
   "metadata": {},
   "outputs": [],
   "source": []
  }
 ],
 "metadata": {
  "kernelspec": {
   "display_name": "Python 3",
   "language": "python",
   "name": "python3"
  },
  "language_info": {
   "codemirror_mode": {
    "name": "ipython",
    "version": 3
   },
   "file_extension": ".py",
   "mimetype": "text/x-python",
   "name": "python",
   "nbconvert_exporter": "python",
   "pygments_lexer": "ipython3",
   "version": "3.7.7"
  }
 },
 "nbformat": 4,
 "nbformat_minor": 4
}
