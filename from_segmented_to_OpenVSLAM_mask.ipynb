{
 "cells": [
  {
   "cell_type": "code",
   "execution_count": 25,
   "metadata": {},
   "outputs": [],
   "source": [
    "import numpy as np\n",
    "import cv2\n",
    "import os\n",
    "from tqdm import tqdm"
   ]
  },
  {
   "cell_type": "code",
   "execution_count": 26,
   "metadata": {},
   "outputs": [],
   "source": [
    "constructions = set(range(2,19))\n",
    "marking = set(range(23,25))\n",
    "nature = set(range(25,31))\n",
    "static_objects = set(range(32,51))\n",
    "\n",
    "static = set.union(static_objects, constructions, marking, nature, static_objects, {65})"
   ]
  },
  {
   "cell_type": "code",
   "execution_count": 28,
   "metadata": {},
   "outputs": [
    {
     "name": "stderr",
     "output_type": "stream",
     "text": [
      "  0%|          | 20/4541 [00:00<00:23, 196.10it/s]"
     ]
    },
    {
     "name": "stdout",
     "output_type": "stream",
     "text": [
      "/media/cds-s/data/Datasets/KITTI_Odometry/dataset/sequences/00/segmentation/images\n"
     ]
    },
    {
     "name": "stderr",
     "output_type": "stream",
     "text": [
      "100%|██████████| 4541/4541 [00:22<00:00, 201.65it/s]\n",
      "  2%|▏         | 20/1101 [00:00<00:05, 196.26it/s]"
     ]
    },
    {
     "name": "stdout",
     "output_type": "stream",
     "text": [
      "/media/cds-s/data/Datasets/KITTI_Odometry/dataset/sequences/01/segmentation/images\n"
     ]
    },
    {
     "name": "stderr",
     "output_type": "stream",
     "text": [
      "100%|██████████| 1101/1101 [00:05<00:00, 200.72it/s]\n",
      "  0%|          | 21/4661 [00:00<00:23, 200.75it/s]"
     ]
    },
    {
     "name": "stdout",
     "output_type": "stream",
     "text": [
      "/media/cds-s/data/Datasets/KITTI_Odometry/dataset/sequences/02/segmentation/images\n"
     ]
    },
    {
     "name": "stderr",
     "output_type": "stream",
     "text": [
      "100%|██████████| 4661/4661 [00:23<00:00, 201.02it/s]\n",
      "  2%|▏         | 20/801 [00:00<00:03, 198.02it/s]"
     ]
    },
    {
     "name": "stdout",
     "output_type": "stream",
     "text": [
      "/media/cds-s/data/Datasets/KITTI_Odometry/dataset/sequences/03/segmentation/images\n"
     ]
    },
    {
     "name": "stderr",
     "output_type": "stream",
     "text": [
      "100%|██████████| 801/801 [00:03<00:00, 202.99it/s]\n",
      "  8%|▊         | 21/271 [00:00<00:01, 207.43it/s]"
     ]
    },
    {
     "name": "stdout",
     "output_type": "stream",
     "text": [
      "/media/cds-s/data/Datasets/KITTI_Odometry/dataset/sequences/04/segmentation/images\n"
     ]
    },
    {
     "name": "stderr",
     "output_type": "stream",
     "text": [
      "100%|██████████| 271/271 [00:01<00:00, 211.11it/s]\n",
      "  1%|          | 21/2761 [00:00<00:13, 208.63it/s]"
     ]
    },
    {
     "name": "stdout",
     "output_type": "stream",
     "text": [
      "/media/cds-s/data/Datasets/KITTI_Odometry/dataset/sequences/05/segmentation/images\n"
     ]
    },
    {
     "name": "stderr",
     "output_type": "stream",
     "text": [
      "100%|██████████| 2761/2761 [00:12<00:00, 212.44it/s]\n",
      "  2%|▏         | 21/1101 [00:00<00:05, 207.07it/s]"
     ]
    },
    {
     "name": "stdout",
     "output_type": "stream",
     "text": [
      "/media/cds-s/data/Datasets/KITTI_Odometry/dataset/sequences/06/segmentation/images\n"
     ]
    },
    {
     "name": "stderr",
     "output_type": "stream",
     "text": [
      "100%|██████████| 1101/1101 [00:05<00:00, 210.94it/s]\n",
      "  2%|▏         | 22/1101 [00:00<00:05, 210.46it/s]"
     ]
    },
    {
     "name": "stdout",
     "output_type": "stream",
     "text": [
      "/media/cds-s/data/Datasets/KITTI_Odometry/dataset/sequences/07/segmentation/images\n"
     ]
    },
    {
     "name": "stderr",
     "output_type": "stream",
     "text": [
      "100%|██████████| 1101/1101 [00:05<00:00, 210.85it/s]\n",
      "  1%|          | 21/4071 [00:00<00:19, 203.96it/s]"
     ]
    },
    {
     "name": "stdout",
     "output_type": "stream",
     "text": [
      "/media/cds-s/data/Datasets/KITTI_Odometry/dataset/sequences/08/segmentation/images\n"
     ]
    },
    {
     "name": "stderr",
     "output_type": "stream",
     "text": [
      "100%|██████████| 4071/4071 [00:20<00:00, 203.25it/s]\n",
      "  1%|▏         | 21/1591 [00:00<00:07, 203.09it/s]"
     ]
    },
    {
     "name": "stdout",
     "output_type": "stream",
     "text": [
      "/media/cds-s/data/Datasets/KITTI_Odometry/dataset/sequences/09/segmentation/images\n"
     ]
    },
    {
     "name": "stderr",
     "output_type": "stream",
     "text": [
      "100%|██████████| 1591/1591 [00:07<00:00, 207.24it/s]\n",
      "  2%|▏         | 21/1201 [00:00<00:05, 204.18it/s]"
     ]
    },
    {
     "name": "stdout",
     "output_type": "stream",
     "text": [
      "/media/cds-s/data/Datasets/KITTI_Odometry/dataset/sequences/10/segmentation/images\n"
     ]
    },
    {
     "name": "stderr",
     "output_type": "stream",
     "text": [
      "100%|██████████| 1201/1201 [00:05<00:00, 202.98it/s]\n"
     ]
    }
   ],
   "source": [
    "for num_input_dir in range(0,11):\n",
    "    input_directory = '/media/cds-s/data/Datasets/KITTI_Odometry/dataset/sequences/'+ \\\n",
    "                      \"{:02d}\".format(num_input_dir) + \\\n",
    "                      '/segmentation/images'\n",
    "    print(input_directory)\n",
    "    output_directory = '/media/cds-s/data/Datasets/KITTI_Odometry/dataset/sequences/'+ \\\n",
    "                       \"{:02d}\".format(num_input_dir) + \\\n",
    "                       '/RGBD/masks/'\n",
    "    os.makedirs(output_directory, exist_ok=True)\n",
    "    for filename in tqdm(os.listdir(input_directory)):\n",
    "        image = cv2.imread(os.path.join(input_directory, filename), cv2.IMREAD_UNCHANGED)\n",
    "        mask_static = np.in1d(image, list(static))\n",
    "        mask_static = np.reshape(mask_static, image.shape)\n",
    "        image[mask_static] = 255\n",
    "        image[np.invert(mask_static)] = 0\n",
    "        cv2.imwrite(os.path.join(output_directory, filename), image)"
   ]
  },
  {
   "cell_type": "code",
   "execution_count": 24,
   "metadata": {},
   "outputs": [
    {
     "data": {
      "text/plain": [
       "array([[False, False, False, ..., False, False, False],\n",
       "       [False, False, False, ..., False, False, False],\n",
       "       [False, False, False, ..., False, False, False],\n",
       "       ...,\n",
       "       [False, False, False, ..., False, False, False],\n",
       "       [False, False, False, ..., False, False, False],\n",
       "       [False, False, False, ..., False, False, False]])"
      ]
     },
     "execution_count": 24,
     "metadata": {},
     "output_type": "execute_result"
    }
   ],
   "source": [
    "np.invert(mask_static)"
   ]
  },
  {
   "cell_type": "code",
   "execution_count": null,
   "metadata": {},
   "outputs": [],
   "source": [
    "filename = '/media/cds-s/data/Datasets/KITTI_Odometry/dataset/sequences/00/segmentation/images/000007.png'"
   ]
  },
  {
   "cell_type": "code",
   "execution_count": null,
   "metadata": {},
   "outputs": [],
   "source": [
    "image = cv2.imread(filename, cv2.IMREAD_UNCHANGED)"
   ]
  },
  {
   "cell_type": "code",
   "execution_count": null,
   "metadata": {},
   "outputs": [],
   "source": [
    "image.shape"
   ]
  },
  {
   "cell_type": "code",
   "execution_count": null,
   "metadata": {},
   "outputs": [],
   "source": [
    "image[375,1240]"
   ]
  },
  {
   "cell_type": "code",
   "execution_count": null,
   "metadata": {},
   "outputs": [],
   "source": [
    "static_objects = set()"
   ]
  },
  {
   "cell_type": "code",
   "execution_count": null,
   "metadata": {},
   "outputs": [],
   "source": [
    "constructions = set(range(2,19))\n",
    "marking = set(range(23,25))\n",
    "nature = set(range(25,31))\n",
    "static_objects = set(range(32,51))"
   ]
  },
  {
   "cell_type": "code",
   "execution_count": null,
   "metadata": {},
   "outputs": [],
   "source": [
    "static = set.union(static_objects, constructions, marking, nature, static_objects, {65})"
   ]
  },
  {
   "cell_type": "code",
   "execution_count": null,
   "metadata": {},
   "outputs": [],
   "source": [
    "mask_static = np.in1d(image, list(static))\n",
    "mask_static = np.reshape(mask_static, image.shape)\n",
    "image[mask_static] = 0"
   ]
  },
  {
   "cell_type": "code",
   "execution_count": null,
   "metadata": {},
   "outputs": [],
   "source": [
    "image"
   ]
  },
  {
   "cell_type": "code",
   "execution_count": null,
   "metadata": {},
   "outputs": [],
   "source": []
  }
 ],
 "metadata": {
  "kernelspec": {
   "display_name": "Python 3",
   "language": "python",
   "name": "python3"
  },
  "language_info": {
   "codemirror_mode": {
    "name": "ipython",
    "version": 3
   },
   "file_extension": ".py",
   "mimetype": "text/x-python",
   "name": "python",
   "nbconvert_exporter": "python",
   "pygments_lexer": "ipython3",
   "version": "3.7.7"
  }
 },
 "nbformat": 4,
 "nbformat_minor": 4
}
