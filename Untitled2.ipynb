{
 "cells": [
  {
   "cell_type": "code",
   "execution_count": 3,
   "metadata": {},
   "outputs": [],
   "source": [
    "import os\n",
    "import shutil"
   ]
  },
  {
   "cell_type": "code",
   "execution_count": 37,
   "metadata": {},
   "outputs": [],
   "source": [
    "Habitat_dir = '/media/cds-s/data/Datasets/Habitat/'\n",
    "dir_with_all_poses = os.path.join(Habitat_dir, 'dxslam_control_nms4')\n",
    "output_dir_10_25 = os.path.join(Habitat_dir, 'dxslam_control_nms4_10_25')\n",
    "output_dir_5_10 = os.path.join(Habitat_dir, 'dxslam_control_nms4_5_10')\n",
    "output_dir_0_0 = os.path.join(Habitat_dir, 'dxslam_control_nms4_0_0')\n",
    "output_dir_20_5 = os.path.join(Habitat_dir, 'dxslam_control_nms4_20_5')\n",
    "output_dir_50_10 = os.path.join(Habitat_dir, 'dxslam_control_nms4_50_10')\n",
    "os.makedirs(output_dir_10_25, exist_ok=True)\n",
    "os.makedirs(output_dir_5_10, exist_ok=True)\n",
    "os.makedirs(output_dir_0_0, exist_ok=True)\n",
    "os.makedirs(output_dir_20_5, exist_ok=True)\n",
    "os.makedirs(output_dir_50_10, exist_ok=True)"
   ]
  },
  {
   "cell_type": "code",
   "execution_count": 38,
   "metadata": {},
   "outputs": [],
   "source": [
    "for filename in os.listdir(dir_with_all_poses):\n",
    "    if filename.find('_10_25_') != -1:\n",
    "        source = os.path.join(dir_with_all_poses, filename)\n",
    "        destination = os.path.join(output_dir_10_25, filename)\n",
    "        shutil.copyfile(source, destination)\n",
    "    if filename.find('_5_10_') != -1:\n",
    "        source = os.path.join(dir_with_all_poses, filename)\n",
    "        destination = os.path.join(output_dir_5_10, filename)\n",
    "        shutil.copyfile(source, destination)\n",
    "    if filename.find('_0_0_') != -1:\n",
    "        source = os.path.join(dir_with_all_poses, filename)\n",
    "        destination = os.path.join(output_dir_0_0, filename)\n",
    "        shutil.copyfile(source, destination)\n",
    "    if filename.find('_20_5_') != -1:\n",
    "        source = os.path.join(dir_with_all_poses, filename)\n",
    "        destination = os.path.join(output_dir_20_5, filename)\n",
    "        shutil.copyfile(source, destination)\n",
    "    if filename.find('_50_10_') != -1:\n",
    "        source = os.path.join(dir_with_all_poses, filename)\n",
    "        destination = os.path.join(output_dir_50_10, filename)\n",
    "        shutil.copyfile(source, destination)"
   ]
  },
  {
   "cell_type": "code",
   "execution_count": null,
   "metadata": {},
   "outputs": [],
   "source": []
  }
 ],
 "metadata": {
  "kernelspec": {
   "display_name": "Python 3",
   "language": "python",
   "name": "python3"
  },
  "language_info": {
   "codemirror_mode": {
    "name": "ipython",
    "version": 3
   },
   "file_extension": ".py",
   "mimetype": "text/x-python",
   "name": "python",
   "nbconvert_exporter": "python",
   "pygments_lexer": "ipython3",
   "version": "3.7.7"
  }
 },
 "nbformat": 4,
 "nbformat_minor": 4
}
