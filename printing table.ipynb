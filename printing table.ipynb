{
 "cells": [
  {
   "cell_type": "code",
   "execution_count": null,
   "metadata": {},
   "outputs": [],
   "source": [
    "from tabulate import tabulate\n",
    "import json\n",
    "import numpy as np\n",
    "import h5py\n",
    "import os\n",
    "from scipy.spatial.transform import Rotation as R\n",
    "from tqdm import tqdm"
   ]
  },
  {
   "cell_type": "code",
   "execution_count": null,
   "metadata": {},
   "outputs": [],
   "source": [
    "json_data = '/home/cds-s/workspace/hierarchical_localization/table.json'\n",
    "path_to_hdf5_datasets = '/media/cds-s/data/Datasets/Habitat/1LXtFkjw3qL_point0/hdf5/'\n",
    "output_path = '/media/cds-s/data/Datasets/Habitat/table.txt'"
   ]
  },
  {
   "cell_type": "code",
   "execution_count": null,
   "metadata": {},
   "outputs": [],
   "source": [
    "with open(json_data) as f:\n",
    "    table = json.load(f)"
   ]
  },
  {
   "cell_type": "code",
   "execution_count": null,
   "metadata": {},
   "outputs": [],
   "source": [
    "def quaternion_to_rotation_matrix(qvec):\n",
    "    r = R.from_quat([qvec[1], qvec[2], qvec[3], qvec[0]])\n",
    "    result = r.as_matrix()\n",
    "    result[:3,2] = -result[:3,2]\n",
    "    result[:3,1] = -result[:3,1]\n",
    "    return result"
   ]
  },
  {
   "cell_type": "code",
   "execution_count": 5,
   "metadata": {},
   "outputs": [
    {
     "name": "stderr",
     "output_type": "stream",
     "text": [
      "100%|██████████| 176/176 [01:42<00:00,  1.71it/s]\n"
     ]
    }
   ],
   "source": [
    "angle_thr = 10\n",
    "dist_thr = 2\n",
    "table_metrics = {}\n",
    "for key in tqdm(table.keys()):\n",
    "    if not(key in table_metrics.keys()):\n",
    "        table_metrics[key] = {\n",
    "            'tp'  : 0,\n",
    "            'all' : 0\n",
    "        }\n",
    "    for query in table[key]['queries-dbs']:\n",
    "        hdf5_filename = '_'.join(query.split('_')[:2]) + '.hdf5'\n",
    "        num_image = int(query.split('_')[-1])\n",
    "        hdf5_file = h5py.File(os.path.join(path_to_hdf5_datasets, hdf5_filename), 'r')\n",
    "        pose_query_gt = np.eye(4)\n",
    "        is_database = \"\"\n",
    "        if query.find('database') != -1:\n",
    "            is_database = \"_base\"\n",
    "        pose_query_gt[:3,:3] = quaternion_to_rotation_matrix(hdf5_file['quat'+is_database][num_image])\n",
    "        pose_query_gt[:3,3] = hdf5_file['gps'+is_database][num_image]\n",
    "        pose_query_estimated = table[key]['queries-dbs'][query]['estimated_pose']\n",
    "        error_pose = np.linalg.inv(pose_query_estimated) @ pose_query_gt\n",
    "        dist_error = np.sum(error_pose[:3, 3]**2) ** 0.5\n",
    "        r = R.from_matrix(error_pose[:3, :3])\n",
    "        rotvec = r.as_rotvec()\n",
    "        angle_error = (np.sum(rotvec**2)**0.5) * 180 / 3.14159265353\n",
    "        angle_error = abs(180 - abs(angle_error-180))\n",
    "        if angle_error < angle_thr and dist_error < dist_thr:\n",
    "            table_metrics[key]['tp'] += 1\n",
    "        table_metrics[key]['all'] += 1"
   ]
  },
  {
   "cell_type": "code",
   "execution_count": 7,
   "metadata": {},
   "outputs": [],
   "source": [
    "table = table_metrics"
   ]
  },
  {
   "cell_type": "code",
   "execution_count": 9,
   "metadata": {},
   "outputs": [
    {
     "name": "stdout",
     "output_type": "stream",
     "text": [
      "╒═══════╤═════════╤═════════╤═════════╤═════════╤═════════╤════════╤═════════╤════════╤════════╤════════╤════════╕\n",
      "│ 150°- │ 0/0     │ 0/0     │ 0/0     │ 0/0     │ 0/0     │ 0/0    │ 0/0     │ 0/0    │ 0/0    │ 0/0    │ 0/0    │\n",
      "│ 180°  │         │         │         │         │         │        │         │        │        │        │        │\n",
      "├───────┼─────────┼─────────┼─────────┼─────────┼─────────┼────────┼─────────┼────────┼────────┼────────┼────────┤\n",
      "│ 120°- │ 0/929   │ 0/1054  │ 0/544   │ 2/925   │ 9/1001  │ 2/1071 │ 0/1088  │ 0/1088 │ 0/1088 │ 0/279  │ 0/0    │\n",
      "│ 150°  │         │         │         │         │         │        │         │        │        │        │        │\n",
      "├───────┼─────────┼─────────┼─────────┼─────────┼─────────┼────────┼─────────┼────────┼────────┼────────┼────────┤\n",
      "│ 90°-  │ 2/933   │ 13/1057 │ 12/550  │ 15/929  │ 13/1004 │ 9/1069 │ 3/1088  │ 0/1088 │ 0/1088 │ 0/281  │ 0/0    │\n",
      "│ 120°  │         │         │         │         │         │        │         │        │        │        │        │\n",
      "├───────┼─────────┼─────────┼─────────┼─────────┼─────────┼────────┼─────────┼────────┼────────┼────────┼────────┤\n",
      "│ 80°-  │ 107/663 │ 117/792 │ 60/302  │ 61/826  │ 42/958  │ 25/957 │ 7/1082  │ 0/1088 │ 0/1088 │ 0/264  │ 0/0    │\n",
      "│ 90°   │         │         │         │         │         │        │         │        │        │        │        │\n",
      "├───────┼─────────┼─────────┼─────────┼─────────┼─────────┼────────┼─────────┼────────┼────────┼────────┼────────┤\n",
      "│ 70°-  │ 295/623 │ 310/768 │ 113/309 │ 104/822 │ 68/957  │ 27/981 │ 4/1085  │ 0/1088 │ 0/1086 │ 0/258  │ 0/0    │\n",
      "│ 80°   │         │         │         │         │         │        │         │        │        │        │        │\n",
      "├───────┼─────────┼─────────┼─────────┼─────────┼─────────┼────────┼─────────┼────────┼────────┼────────┼────────┤\n",
      "│ 60°-  │ 468/688 │ 452/753 │ 156/315 │ 156/820 │ 108/955 │ 29/968 │ 7/1083  │ 0/1088 │ 0/1088 │ 0/266  │ 0/0    │\n",
      "│ 70°   │         │         │         │         │         │        │         │        │        │        │        │\n",
      "├───────┼─────────┼─────────┼─────────┼─────────┼─────────┼────────┼─────────┼────────┼────────┼────────┼────────┤\n",
      "│ 50°-  │ 498/641 │ 544/781 │ 182/298 │ 216/838 │ 122/955 │ 38/966 │ 10/1087 │ 1/1088 │ 0/1088 │ 0/260  │ 0/0    │\n",
      "│ 60°   │         │         │         │         │         │        │         │        │        │        │        │\n",
      "├───────┼─────────┼─────────┼─────────┼─────────┼─────────┼────────┼─────────┼────────┼────────┼────────┼────────┤\n",
      "│ 40°-  │ 529/628 │ 595/734 │ 226/300 │ 204/802 │ 123/953 │ 35/970 │ 11/1082 │ 0/1088 │ 0/1087 │ 0/267  │ 0/0    │\n",
      "│ 50°   │         │         │         │         │         │        │         │        │        │        │        │\n",
      "├───────┼─────────┼─────────┼─────────┼─────────┼─────────┼────────┼─────────┼────────┼────────┼────────┼────────┤\n",
      "│ 30°-  │ 581/646 │ 661/773 │ 242/314 │ 266/815 │ 149/957 │ 42/964 │ 11/1084 │ 1/1088 │ 0/1088 │ 0/265  │ 0/0    │\n",
      "│ 40°   │         │         │         │         │         │        │         │        │        │        │        │\n",
      "├───────┼─────────┼─────────┼─────────┼─────────┼─────────┼────────┼─────────┼────────┼────────┼────────┼────────┤\n",
      "│ 20°-  │ 586/639 │ 684/761 │ 271/311 │ 290/811 │ 163/963 │ 40/959 │ 12/1084 │ 0/1088 │ 0/1088 │ 0/259  │ 0/0    │\n",
      "│ 30°   │         │         │         │         │         │        │         │        │        │        │        │\n",
      "├───────┼─────────┼─────────┼─────────┼─────────┼─────────┼────────┼─────────┼────────┼────────┼────────┼────────┤\n",
      "│ 15°-  │ 386/405 │ 426/486 │ 174/204 │ 279/649 │ 169/870 │ 25/788 │ 8/1046  │ 0/1085 │ 0/1087 │ 0/217  │ 0/0    │\n",
      "│ 20°   │         │         │         │         │         │        │         │        │        │        │        │\n",
      "├───────┼─────────┼─────────┼─────────┼─────────┼─────────┼────────┼─────────┼────────┼────────┼────────┼────────┤\n",
      "│ 10°-  │ 380/394 │ 454/491 │ 150/178 │ 274/663 │ 171/848 │ 26/806 │ 9/1046  │ 1/1088 │ 0/1078 │ 0/235  │ 0/0    │\n",
      "│ 15°   │         │         │         │         │         │        │         │        │        │        │        │\n",
      "├───────┼─────────┼─────────┼─────────┼─────────┼─────────┼────────┼─────────┼────────┼────────┼────────┼────────┤\n",
      "│ 5°-   │ 426/434 │ 473/495 │ 171/184 │ 347/661 │ 162/862 │ 34/757 │ 7/1036  │ 0/1088 │ 0/1086 │ 0/223  │ 0/0    │\n",
      "│ 10°   │         │         │         │         │         │        │         │        │        │        │        │\n",
      "├───────┼─────────┼─────────┼─────────┼─────────┼─────────┼────────┼─────────┼────────┼────────┼────────┼────────┤\n",
      "│ 2°-   │ 265/268 │ 336/352 │ 113/124 │ 248/465 │ 152/701 │ 22/611 │ 6/947   │ 0/1083 │ 0/1068 │ 0/173  │ 0/0    │\n",
      "│ 5°    │         │         │         │         │         │        │         │        │        │        │        │\n",
      "├───────┼─────────┼─────────┼─────────┼─────────┼─────────┼────────┼─────────┼────────┼────────┼────────┼────────┤\n",
      "│ 1°-   │ 105/106 │ 109/118 │ 36/38   │ 100/205 │ 71/366  │ 10/311 │ 7/600   │ 0/880  │ 0/896  │ 0/99   │ 0/0    │\n",
      "│ 2°    │         │         │         │         │         │        │         │        │        │        │        │\n",
      "├───────┼─────────┼─────────┼─────────┼─────────┼─────────┼────────┼─────────┼────────┼────────┼────────┼────────┤\n",
      "│ 0°-   │ 86/90   │ 114/114 │ 38/39   │ 106/197 │ 92/403  │ 16/284 │ 4/626   │ 1/889  │ 0/904  │ 0/80   │ 0/0    │\n",
      "│ 1 °   │         │         │         │         │         │        │         │        │        │        │        │\n",
      "├───────┼─────────┼─────────┼─────────┼─────────┼─────────┼────────┼─────────┼────────┼────────┼────────┼────────┤\n",
      "│       │ 0-      │ 0.25-   │ 0.5-    │ 1.0-    │ 2.0-    │ 3.0-   │ 4.0-    │ 5.0-   │ 10.0-  │ 20.0-  │ 30.0-  │\n",
      "│       │ 0.25 m  │ 0.5 m   │ 1.0 m   │ 2.0 m   │ 3.0 m   │ 4.0 m  │ 5.0 m   │ 10.0 m │ 20.0 m │ 30.0 m │ 50.0 m │\n",
      "╘═══════╧═════════╧═════════╧═════════╧═════════╧═════════╧════════╧═════════╧════════╧════════╧════════╧════════╛\n"
     ]
    }
   ],
   "source": [
    "distances = []\n",
    "angles = []\n",
    "for key in table.keys():\n",
    "    distance, _, _, angle, _ = key.split(' ')\n",
    "    distances.append(float(distance))\n",
    "    angles.append(float(angle))\n",
    "distances = sorted(distances)\n",
    "angles = sorted(list(set(angles)))[::-1]\n",
    "\n",
    "distances = sorted(list(set(distances)))\n",
    "\n",
    "table_for_printing = []\n",
    "\n",
    "set_of_existing_angles = set()\n",
    "\n",
    "num_angle = 0\n",
    "num_distance = 0\n",
    "stroka = []\n",
    "\n",
    "output_file = open(output_path, 'w')\n",
    "while num_angle != len(angles):\n",
    "    for key in table.keys():\n",
    "        distance, _, _, angle, _ = key.split(' ')\n",
    "        distance = float(distance)\n",
    "        angle = float(angle)\n",
    "        if angle == angles[num_angle] and distance == distances[num_distance]:\n",
    "            if num_distance == 0:\n",
    "                if num_angle != len(angles)-1:\n",
    "                    stroka = [str(int(angles[num_angle+1])) + \"°-\\n\"+ str(int(angles[num_angle]))+\"°\"]\n",
    "                else:\n",
    "                    stroka = [\"0°-\\n\"+ str(int(angles[num_angle])) + \" °\"]\n",
    "                stroka.append(str(table[key][\"tp\"])+\"/\"+str(table[key][\"all\"]))\n",
    "                num_distance += 1\n",
    "            else:\n",
    "                num_distance += 1\n",
    "                stroka.append(str(table[key][\"tp\"])+\"/\"+str(table[key][\"all\"]))\n",
    "            if num_distance == len(distances):\n",
    "                stroka_for_txt_file = stroka[1:]\n",
    "                stroka_for_txt_file = ' '.join(stroka_for_txt_file)\n",
    "                output_file.write(stroka_for_txt_file + \"\\n\")\n",
    "                table_for_printing.append(stroka)\n",
    "                num_distance = 0\n",
    "                num_angle += 1\n",
    "                if num_angle == len(angles):\n",
    "                    break\n",
    "\n",
    "# print(stroka)\n",
    "\n",
    "table_for_printing.append([\" \"] + ['0-\\n'+str(distances[0])+\" m\"] + [str(distances[i])+\"-\\n\"+str(distance)+\" m\" for i, distance in enumerate(distances[1:])])\n",
    "\n",
    "print(tabulate(table_for_printing, tablefmt='fancy_grid'))\n",
    "output_file.close()"
   ]
  },
  {
   "cell_type": "code",
   "execution_count": 15,
   "metadata": {},
   "outputs": [],
   "source": [
    "distances = []\n",
    "angles = []\n",
    "for key in table.keys():\n",
    "    distance, _, _, angle, _ = key.split(' ')\n",
    "    distances.append(float(distance))\n",
    "    angles.append(float(angle))\n",
    "distances = sorted(distances)\n",
    "angles = sorted(list(set(angles)))[::-1]\n",
    "\n",
    "distances = sorted(list(set(distances)))\n",
    "\n",
    "table_for_printing = []\n",
    "\n",
    "set_of_existing_angles = set()\n",
    "\n",
    "num_angle = 0\n",
    "num_distance = 0\n",
    "stroka = []\n",
    "\n",
    "output_file = open(output_path, 'w')\n",
    "while num_angle != len(angles):\n",
    "    for key in table.keys():\n",
    "        distance, _, _, angle, _ = key.split(' ')\n",
    "        distance = float(distance)\n",
    "        angle = float(angle)\n",
    "        if angle == angles[num_angle] and distance == distances[num_distance]:\n",
    "            num_distance += 1\n",
    "            if table[key][\"all\"] != 0:\n",
    "                stroka.append(str(table[key][\"tp\"]/table[key][\"all\"]))\n",
    "            else:\n",
    "                stroka.append(str(0))\n",
    "            if num_distance == len(distances):\n",
    "                stroka_for_txt_file = ' '.join(stroka)\n",
    "                stroka = []\n",
    "                output_file.write(stroka_for_txt_file + \"\\n\")\n",
    "                num_distance = 0\n",
    "                num_angle += 1\n",
    "                if num_angle == len(angles):\n",
    "                    break\n",
    "\n",
    "output_file.close()"
   ]
  },
  {
   "cell_type": "code",
   "execution_count": 16,
   "metadata": {},
   "outputs": [
    {
     "data": {
      "text/plain": [
       "[]"
      ]
     },
     "execution_count": 16,
     "metadata": {},
     "output_type": "execute_result"
    }
   ],
   "source": [
    "stroka"
   ]
  },
  {
   "cell_type": "code",
   "execution_count": null,
   "metadata": {},
   "outputs": [],
   "source": [
    "\n"
   ]
  }
 ],
 "metadata": {
  "kernelspec": {
   "display_name": "Python 3",
   "language": "python",
   "name": "python3"
  },
  "language_info": {
   "codemirror_mode": {
    "name": "ipython",
    "version": 3
   },
   "file_extension": ".py",
   "mimetype": "text/x-python",
   "name": "python",
   "nbconvert_exporter": "python",
   "pygments_lexer": "ipython3",
   "version": "3.7.7"
  }
 },
 "nbformat": 4,
 "nbformat_minor": 4
}
