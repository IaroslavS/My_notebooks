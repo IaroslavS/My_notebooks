{
 "cells": [
  {
   "cell_type": "code",
   "execution_count": 1,
   "metadata": {},
   "outputs": [],
   "source": [
    "import os"
   ]
  },
  {
   "cell_type": "code",
   "execution_count": 3,
   "metadata": {},
   "outputs": [],
   "source": [
    "directory = '/media/cds-s/data/Datasets/Husky-NKBVS/15_loop_counter_clockwise_2020-04-24-19-11-15/RGBD/'"
   ]
  },
  {
   "cell_type": "code",
   "execution_count": 4,
   "metadata": {},
   "outputs": [],
   "source": [
    "input_dir_rgb = os.path.join(directory, 'rgb/left_rect_images/images')\n",
    "input_dir_depth = os.path.join(directory, 'depth/depth_anynet')\n",
    "filename_depth = os.path.join(directory, 'depth.txt')\n",
    "filename_rgb = os.path.join(directory, 'rgb.txt')\n",
    "filename_times_rgb = os.path.join(directory, 'rgb/left_rect_images/timestamps_depth.txt')\n",
    "filename_times_depth = os.path.join(directory, 'rgb/left_rect_images/timestamps_depth.txt')"
   ]
  },
  {
   "cell_type": "code",
   "execution_count": 6,
   "metadata": {},
   "outputs": [],
   "source": [
    "file_rgb = open(filename_rgb, 'w')\n",
    "file_depth = open(filename_depth, 'w')\n",
    "file_times_rgb = open(filename_times_rgb, 'r')\n",
    "file_times_depth = open(filename_times_depth, 'r')\n",
    "times_rgb = file_times_rgb.readlines()\n",
    "times_depth = file_times_depth.readlines()\n",
    "file_rgb.write('ignore\\n')\n",
    "file_rgb.write('ignore\\n')\n",
    "file_rgb.write('ignore\\n')\n",
    "file_depth.write('ignore\\n')\n",
    "file_depth.write('ignore\\n')\n",
    "file_depth.write('ignore\\n')\n",
    "for i, filename in enumerate(sorted(os.listdir(input_dir_rgb))):\n",
    "    file_rgb.write(times_rgb[i].rstrip() + ' '+ 'rgb/left_rect_images/images/'+filename+'\\n')\n",
    "for i, filename in enumerate(sorted(os.listdir(input_dir_depth))):\n",
    "    file_depth.write(times_depth[i].rstrip() + ' '+ 'depth/depth_anynet/'+filename+'\\n')\n",
    "file_rgb.close()\n",
    "file_depth.close()\n",
    "file_times_rgb.close()\n",
    "file_times_depth.close()"
   ]
  },
  {
   "cell_type": "code",
   "execution_count": null,
   "metadata": {},
   "outputs": [],
   "source": []
  },
  {
   "cell_type": "code",
   "execution_count": null,
   "metadata": {},
   "outputs": [],
   "source": []
  }
 ],
 "metadata": {
  "kernelspec": {
   "display_name": "Python 3",
   "language": "python",
   "name": "python3"
  },
  "language_info": {
   "codemirror_mode": {
    "name": "ipython",
    "version": 3
   },
   "file_extension": ".py",
   "mimetype": "text/x-python",
   "name": "python",
   "nbconvert_exporter": "python",
   "pygments_lexer": "ipython3",
   "version": "3.7.7"
  }
 },
 "nbformat": 4,
 "nbformat_minor": 4
}
