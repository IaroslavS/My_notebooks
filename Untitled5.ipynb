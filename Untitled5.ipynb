{
 "cells": [
  {
   "cell_type": "code",
   "execution_count": 1,
   "metadata": {},
   "outputs": [],
   "source": [
    "import os"
   ]
  },
  {
   "cell_type": "code",
   "execution_count": 2,
   "metadata": {},
   "outputs": [],
   "source": [
    "directory = '/media/cds-s/data/Datasets/Husky-NKBVS/20_map_half_2020-03-17-14-21-57/'"
   ]
  },
  {
   "cell_type": "code",
   "execution_count": 3,
   "metadata": {},
   "outputs": [],
   "source": [
    "input_dir_rgb = os.path.join(directory, 'test_RGBD/rgb')\n",
    "input_dir_depth = os.path.join(directory, 'test_RGBD/depth/')\n",
    "filename_depth = os.path.join(directory, 'test_RGBD/depth.txt')\n",
    "filename_rgb = os.path.join(directory, 'test_RGBD/rgb.txt')\n",
    "filename_times_rgb = os.path.join(directory, 'test_RGBD/timestamps.txt')\n",
    "filename_times_depth = os.path.join(directory, 'test_RGBD/timestamps.txt')"
   ]
  },
  {
   "cell_type": "code",
   "execution_count": 4,
   "metadata": {},
   "outputs": [
    {
     "ename": "FileNotFoundError",
     "evalue": "[Errno 2] No such file or directory: '/media/cds-s/data/Datasets/Husky-NKBVS/20_map_half_2020-03-17-14-21-57/test_RGBD/rgb.txt'",
     "output_type": "error",
     "traceback": [
      "\u001b[0;31m---------------------------------------------------------------------------\u001b[0m",
      "\u001b[0;31mFileNotFoundError\u001b[0m                         Traceback (most recent call last)",
      "\u001b[0;32m<ipython-input-4-f506d582fd63>\u001b[0m in \u001b[0;36m<module>\u001b[0;34m\u001b[0m\n\u001b[0;32m----> 1\u001b[0;31m \u001b[0mfile_rgb\u001b[0m \u001b[0;34m=\u001b[0m \u001b[0mopen\u001b[0m\u001b[0;34m(\u001b[0m\u001b[0mfilename_rgb\u001b[0m\u001b[0;34m,\u001b[0m \u001b[0;34m'w'\u001b[0m\u001b[0;34m)\u001b[0m\u001b[0;34m\u001b[0m\u001b[0;34m\u001b[0m\u001b[0m\n\u001b[0m\u001b[1;32m      2\u001b[0m \u001b[0mfile_depth\u001b[0m \u001b[0;34m=\u001b[0m \u001b[0mopen\u001b[0m\u001b[0;34m(\u001b[0m\u001b[0mfilename_depth\u001b[0m\u001b[0;34m,\u001b[0m \u001b[0;34m'w'\u001b[0m\u001b[0;34m)\u001b[0m\u001b[0;34m\u001b[0m\u001b[0;34m\u001b[0m\u001b[0m\n\u001b[1;32m      3\u001b[0m \u001b[0mfile_times_rgb\u001b[0m \u001b[0;34m=\u001b[0m \u001b[0mopen\u001b[0m\u001b[0;34m(\u001b[0m\u001b[0mfilename_times_rgb\u001b[0m\u001b[0;34m,\u001b[0m \u001b[0;34m'r'\u001b[0m\u001b[0;34m)\u001b[0m\u001b[0;34m\u001b[0m\u001b[0;34m\u001b[0m\u001b[0m\n\u001b[1;32m      4\u001b[0m \u001b[0mfile_times_depth\u001b[0m \u001b[0;34m=\u001b[0m \u001b[0mopen\u001b[0m\u001b[0;34m(\u001b[0m\u001b[0mfilename_times_depth\u001b[0m\u001b[0;34m,\u001b[0m \u001b[0;34m'r'\u001b[0m\u001b[0;34m)\u001b[0m\u001b[0;34m\u001b[0m\u001b[0;34m\u001b[0m\u001b[0m\n\u001b[1;32m      5\u001b[0m \u001b[0mtimes_rgb\u001b[0m \u001b[0;34m=\u001b[0m \u001b[0mfile_times_rgb\u001b[0m\u001b[0;34m.\u001b[0m\u001b[0mreadlines\u001b[0m\u001b[0;34m(\u001b[0m\u001b[0;34m)\u001b[0m\u001b[0;34m\u001b[0m\u001b[0;34m\u001b[0m\u001b[0m\n",
      "\u001b[0;31mFileNotFoundError\u001b[0m: [Errno 2] No such file or directory: '/media/cds-s/data/Datasets/Husky-NKBVS/20_map_half_2020-03-17-14-21-57/test_RGBD/rgb.txt'"
     ]
    }
   ],
   "source": [
    "file_rgb = open(filename_rgb, 'w')\n",
    "file_depth = open(filename_depth, 'w')\n",
    "file_times_rgb = open(filename_times_rgb, 'r')\n",
    "file_times_depth = open(filename_times_depth, 'r')\n",
    "times_rgb = file_times_rgb.readlines()\n",
    "times_depth = file_times_depth.readlines()\n",
    "file_rgb.write('ignore\\n')\n",
    "file_rgb.write('ignore\\n')\n",
    "file_rgb.write('ignore\\n')\n",
    "file_depth.write('ignore\\n')\n",
    "file_depth.write('ignore\\n')\n",
    "file_depth.write('ignore\\n')\n",
    "for i, filename in enumerate(sorted(os.listdir(input_dir_rgb))):\n",
    "    file_rgb.write(times_rgb[i].rstrip() + ' '+ 'rgb/'+filename+'\\n')\n",
    "for i, filename in enumerate(sorted(os.listdir(input_dir_depth))):\n",
    "    file_depth.write(times_depth[i].rstrip() + ' '+ 'depth/'+filename+'\\n')\n",
    "file_rgb.close()\n",
    "file_depth.close()\n",
    "file_times_rgb.close()\n",
    "file_times_depth.close()"
   ]
  },
  {
   "cell_type": "code",
   "execution_count": null,
   "metadata": {},
   "outputs": [],
   "source": []
  },
  {
   "cell_type": "code",
   "execution_count": null,
   "metadata": {},
   "outputs": [],
   "source": []
  }
 ],
 "metadata": {
  "kernelspec": {
   "display_name": "Python 3",
   "language": "python",
   "name": "python3"
  },
  "language_info": {
   "codemirror_mode": {
    "name": "ipython",
    "version": 3
   },
   "file_extension": ".py",
   "mimetype": "text/x-python",
   "name": "python",
   "nbconvert_exporter": "python",
   "pygments_lexer": "ipython3",
   "version": "3.7.7"
  }
 },
 "nbformat": 4,
 "nbformat_minor": 4
}
