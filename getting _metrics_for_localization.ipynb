{
 "cells": [
  {
   "cell_type": "code",
   "execution_count": 1,
   "metadata": {},
   "outputs": [],
   "source": [
    "from sklearn.metrics.pairwise import cosine_similarity\n",
    "import numpy as np"
   ]
  },
  {
   "cell_type": "code",
   "execution_count": 87,
   "metadata": {},
   "outputs": [],
   "source": [
    "filename = '/home/cds-s/Downloads/kapture_Ap-Gem (1).txt'"
   ]
  },
  {
   "cell_type": "code",
   "execution_count": 93,
   "metadata": {},
   "outputs": [],
   "source": [
    "filename = '/media/cds-s/data/Datasets/Habitat/HF_Net_output/HF-Net_results.txt'"
   ]
  },
  {
   "cell_type": "code",
   "execution_count": 98,
   "metadata": {},
   "outputs": [],
   "source": [
    "filename = '/media/cds-s/data/Datasets/Habitat/Net_VLAD_results.txt'"
   ]
  },
  {
   "cell_type": "code",
   "execution_count": 102,
   "metadata": {},
   "outputs": [
    {
     "name": "stdout",
     "output_type": "stream",
     "text": [
      "/media/cds-s/data/Datasets/Habitat/Net_VLAD_results.txt\n",
      "recall = 0.1864406779661017\n",
      "precision = 0.9794520547945206\n",
      "tp = 143\n"
     ]
    }
   ],
   "source": [
    "data = {}\n",
    "file = open(filename)\n",
    "tp = 0\n",
    "tn = 0\n",
    "fp = 0\n",
    "fn = 0\n",
    "threshold = 0.9\n",
    "for line in file.readlines():\n",
    "    line = line.rstrip('\\n')\n",
    "    if line.find('#') != -1:\n",
    "        continue\n",
    "    if len(line.split(' ')) == 3:\n",
    "        query_image, database_image, cos_metric = line.split(' ')\n",
    "    elif len(line.split(' ')) == 4:\n",
    "        query_image, database_image, L2_metric, cos_metric = line.split(' ')\n",
    "    if not(query_image in data.keys()):\n",
    "        data[query_image] = database_image\n",
    "        num_point_query = query_image.split('_')[1]\n",
    "        num_point_database = database_image.split('_')[1]\n",
    "        if float(cos_metric) > threshold:\n",
    "            if num_point_database == num_point_query:\n",
    "                tp += 1\n",
    "            else:\n",
    "                fp += 1\n",
    "        elif float(cos_metric) < threshold:\n",
    "            if num_point_database != num_point_query:\n",
    "                tn += 1\n",
    "            else:\n",
    "                fn += 1\n",
    "precision = tp / (tp + fp)\n",
    "recall = tp / (tp + fn)\n",
    "false_alarm_ratio = fp / (fp + tn)\n",
    "print(filename)\n",
    "print(f\"recall = {recall}\")\n",
    "print(f\"precision = {precision}\")\n",
    "print(f\"tp = {tp}\")"
   ]
  },
  {
   "cell_type": "code",
   "execution_count": 82,
   "metadata": {},
   "outputs": [
    {
     "data": {
      "text/plain": [
       "0"
      ]
     },
     "execution_count": 82,
     "metadata": {},
     "output_type": "execute_result"
    }
   ],
   "source": []
  },
  {
   "cell_type": "code",
   "execution_count": null,
   "metadata": {},
   "outputs": [],
   "source": []
  }
 ],
 "metadata": {
  "kernelspec": {
   "display_name": "Python 3",
   "language": "python",
   "name": "python3"
  },
  "language_info": {
   "codemirror_mode": {
    "name": "ipython",
    "version": 3
   },
   "file_extension": ".py",
   "mimetype": "text/x-python",
   "name": "python",
   "nbconvert_exporter": "python",
   "pygments_lexer": "ipython3",
   "version": "3.7.7"
  }
 },
 "nbformat": 4,
 "nbformat_minor": 4
}
