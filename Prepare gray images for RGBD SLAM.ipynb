{
 "cells": [
  {
   "cell_type": "code",
   "execution_count": 1,
   "metadata": {},
   "outputs": [],
   "source": [
    "import os\n",
    "import cv2\n",
    "from tqdm import tqdm"
   ]
  },
  {
   "cell_type": "code",
   "execution_count": 2,
   "metadata": {},
   "outputs": [],
   "source": [
    "directory = '/media/cds-s/data/Datasets/Husky-NKBVS/20_slow_snake_1_2020-04-24-17-45-56/'"
   ]
  },
  {
   "cell_type": "code",
   "execution_count": 72,
   "metadata": {},
   "outputs": [],
   "source": [
    "directory_left_images = os.path.join(directory, 'stereo_left_image_raw/images')\n",
    "directory_right_images = os.path.join(directory, 'stereo_right_image_raw/images')\n",
    "output_dir_left = os.path.join(directory, 'stereo_images/gray/image_0')\n",
    "output_dir_right = os.path.join(directory, 'stereo_images/gray/image_1')\n",
    "os.makedirs(output_dir_left, exist_ok=True)\n",
    "os.makedirs(output_dir_right, exist_ok=True)"
   ]
  },
  {
   "cell_type": "code",
   "execution_count": 73,
   "metadata": {},
   "outputs": [
    {
     "name": "stderr",
     "output_type": "stream",
     "text": [
      "100%|██████████| 1053/1053 [00:23<00:00, 44.08it/s]\n",
      "100%|██████████| 1053/1053 [00:23<00:00, 45.09it/s]\n"
     ]
    }
   ],
   "source": [
    "for filename in tqdm(sorted(os.listdir(directory_left_images))):\n",
    "    if filename.find('.png') == -1:\n",
    "        continue\n",
    "    image = cv2.imread(os.path.join(directory_left_images, filename))\n",
    "    gray = cv2.cvtColor(image, cv2.COLOR_BGR2GRAY) \n",
    "    cv2.imwrite(os.path.join(output_dir_left,filename), gray)\n",
    "for filename in tqdm(sorted(os.listdir(directory_right_images))):\n",
    "    if filename.find('.png') == -1:\n",
    "        continue\n",
    "    image = cv2.imread(os.path.join(directory_right_images, filename))\n",
    "    gray = cv2.cvtColor(image, cv2.COLOR_BGR2GRAY)\n",
    "    cv2.imwrite(os.path.join(output_dir_right,filename), gray)"
   ]
  },
  {
   "cell_type": "code",
   "execution_count": null,
   "metadata": {},
   "outputs": [],
   "source": []
  }
 ],
 "metadata": {
  "kernelspec": {
   "display_name": "Python 3",
   "language": "python",
   "name": "python3"
  },
  "language_info": {
   "codemirror_mode": {
    "name": "ipython",
    "version": 3
   },
   "file_extension": ".py",
   "mimetype": "text/x-python",
   "name": "python",
   "nbconvert_exporter": "python",
   "pygments_lexer": "ipython3",
   "version": "3.7.7"
  }
 },
 "nbformat": 4,
 "nbformat_minor": 4
}
