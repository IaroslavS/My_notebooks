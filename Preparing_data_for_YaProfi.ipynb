{
 "cells": [
  {
   "cell_type": "code",
   "execution_count": 4,
   "metadata": {},
   "outputs": [],
   "source": [
    "import os\n",
    "from shutil import copyfile\n",
    "from tqdm import tqdm"
   ]
  },
  {
   "cell_type": "code",
   "execution_count": 6,
   "metadata": {},
   "outputs": [],
   "source": [
    "root_dir = '/media/cds-s/data/Datasets/YaProfi'\n",
    "image_directories = ['Train/Train/2021-03-27-09-08-15/images/zed_node_left_image_rect_color_compressed/images',\n",
    "                     'Train/Train/2021-03-27-10-17-01/images/zed_node_left_image_rect_color_compressed/images',\n",
    "                    'Train/Train/2021-03-27-10-32-53/images/zed_node_left_image_rect_color_compressed/images',\n",
    "                    'Test/Test/2021-03-27-03-30-47/images/zed_node_left_image_rect_color_compressed/images',\n",
    "                    'Test/Test/2021-03-31-12-33-50/images/zed_node_left_image_rect_color_compressed/images']\n",
    "depth_directories = ['Train/Train/2021-03-27-09-08-15/images/zed_node_depth_depth_registered/images',\n",
    "                     'Train/Train/2021-03-27-10-17-01/images/zed_node_depth_depth_registered/images',\n",
    "                    'Train/Train/2021-03-27-10-32-53/images/zed_node_depth_depth_registered/images',\n",
    "                    'Test/Test/2021-03-27-03-30-47/images/zed_node_depth_depth_registered/images',\n",
    "                    'Test/Test/2021-03-31-12-33-50/images/zed_node_depth_depth_registered/images']\n",
    "output_image_dir = '/media/cds-s/data/Datasets/YaProfi/images'\n",
    "output_depth_dir = '/media/cds-s/data/Datasets/YaProfi/depth_maps'"
   ]
  },
  {
   "cell_type": "code",
   "execution_count": 6,
   "metadata": {},
   "outputs": [
    {
     "name": "stderr",
     "output_type": "stream",
     "text": [
      "100%|██████████| 15505/15505 [00:17<00:00, 865.35it/s] \n",
      "100%|██████████| 9435/9435 [00:13<00:00, 712.56it/s] \n",
      "100%|██████████| 4135/4135 [00:06<00:00, 678.25it/s] \n",
      "100%|██████████| 13585/13585 [04:41<00:00, 48.31it/s] \n",
      "100%|██████████| 16777/16777 [03:28<00:00, 80.37it/s] \n"
     ]
    }
   ],
   "source": [
    "os.makedirs(output_image_dir, exist_ok=True)\n",
    "for image_dir in image_directories:\n",
    "    i = 20\n",
    "    for image_filename in tqdm(sorted(os.listdir(os.path.join(root_dir, image_dir)))):\n",
    "        if ((image_dir.split('/')[0] == 'Train') and (i % 20 == 0)) or \\\n",
    "            (image_dir.split('/')[0] == 'Test'):\n",
    "            new_filename = image_dir.split('/')[0]\n",
    "            new_filename = new_filename + '_' + image_dir.split('/')[2].replace('-','_') + '_'+ image_filename.split('/')[-1]\n",
    "            copyfile(os.path.join(root_dir, image_dir, image_filename), os.path.join(output_image_dir, new_filename))\n",
    "        if (image_dir.split('/')[0] == 'Train'):\n",
    "            i += 1"
   ]
  },
  {
   "cell_type": "code",
   "execution_count": 7,
   "metadata": {},
   "outputs": [
    {
     "name": "stderr",
     "output_type": "stream",
     "text": [
      "100%|██████████| 16091/16091 [00:20<00:00, 781.38it/s] \n",
      "100%|██████████| 9435/9435 [00:08<00:00, 1170.18it/s]\n",
      "100%|██████████| 4135/4135 [00:06<00:00, 611.91it/s] \n",
      "100%|██████████| 13585/13585 [03:08<00:00, 71.97it/s] \n",
      "100%|██████████| 16776/16776 [03:42<00:00, 75.40it/s] \n"
     ]
    }
   ],
   "source": [
    "os.makedirs(output_depth_dir, exist_ok=True)\n",
    "for depth_dir in depth_directories:\n",
    "    i = 20\n",
    "    for image_filename in tqdm(sorted(os.listdir(os.path.join(root_dir, depth_dir)))):\n",
    "        if ((depth_dir.split('/')[0] == 'Train') and (i % 20 == 0)) or \\\n",
    "            (depth_dir.split('/')[0] == 'Test'):\n",
    "            new_filename = depth_dir.split('/')[0]\n",
    "            new_filename = new_filename + '_' + depth_dir.split('/')[2].replace('-','_') + '_'+ image_filename.split('/')[-1]\n",
    "            copyfile(os.path.join(root_dir, depth_dir, image_filename), os.path.join(output_depth_dir, new_filename))\n",
    "        if (depth_dir.split('/')[0] == 'Train'):\n",
    "            i += 1"
   ]
  },
  {
   "cell_type": "code",
   "execution_count": null,
   "metadata": {},
   "outputs": [],
   "source": []
  }
 ],
 "metadata": {
  "kernelspec": {
   "display_name": "Python 3",
   "language": "python",
   "name": "python3"
  },
  "language_info": {
   "codemirror_mode": {
    "name": "ipython",
    "version": 3
   },
   "file_extension": ".py",
   "mimetype": "text/x-python",
   "name": "python",
   "nbconvert_exporter": "python",
   "pygments_lexer": "ipython3",
   "version": "3.7.7"
  }
 },
 "nbformat": 4,
 "nbformat_minor": 4
}
