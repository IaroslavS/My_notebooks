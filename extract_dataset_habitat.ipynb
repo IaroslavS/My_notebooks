{
 "cells": [
  {
   "cell_type": "code",
   "execution_count": 16,
   "metadata": {},
   "outputs": [],
   "source": [
    "import h5py\n",
    "import matplotlib\n",
    "import matplotlib.pyplot as plt\n",
    "# from habitat.utils.visualizations import maps\n",
    "import matplotlib.colors as mcolors\n",
    "from matplotlib.colors import LinearSegmentedColormap\n",
    "import numpy as np\n",
    "import os\n",
    "import cv2\n",
    "import ast\n",
    "from scipy.spatial.transform import Rotation as R"
   ]
  },
  {
   "cell_type": "code",
   "execution_count": 92,
   "metadata": {},
   "outputs": [],
   "source": [
    "def get_true_depth(depth):\n",
    "    return 0.5 + 4.5*depth"
   ]
  },
  {
   "cell_type": "code",
   "execution_count": 91,
   "metadata": {},
   "outputs": [],
   "source": [
    "dir_with_hdf5_datasets = '/media/cds-s/data/Datasets/Habitat/datasets_hdf5'"
   ]
  },
  {
   "cell_type": "code",
   "execution_count": 97,
   "metadata": {},
   "outputs": [],
   "source": [
    "for filename_hdf5_dataset in os.listdir(dir_with_hdf5_datasets):\n",
    "    file = h5py.File(os.path.join(dir_with_hdf5_datasets, filename_hdf5_dataset), 'r')\n",
    "    output_path = dir_with_hdf5_datasets[:dir_with_hdf5_datasets.rfind('/')]+'/datasets/'+ \\\n",
    "                  filename_hdf5_dataset[:filename_hdf5_dataset.rfind('.')]\n",
    "    \n",
    "    rgb = file['rgb']\n",
    "    depth = file['depth']\n",
    "    semantic = file['semantic']\n",
    "    objectgoal = file['objectgoal']\n",
    "    compass = file['compass']\n",
    "    gps = file['gps']\n",
    "    heading = file['heading']\n",
    "    top_down_map = file['top_down_map']\n",
    "    fog_of_war_mask = file['fog_of_war_mask']\n",
    "    agent_map_coord = file['agent_map_coord']\n",
    "    agent_angle = file['agent_angle']\n",
    "    mapping = np.array(file['mapping'])\n",
    "    index_to_title_map = ast.literal_eval(str(np.array(file['index_to_title_map']))[2:-1])\n",
    "    positions = file['position']\n",
    "    rotations = file['rotation']\n",
    "    depth = np.array(list(map(get_true_depth, depth)))\n",
    "    \n",
    "    os.makedirs(os.path.join(output_path,'rgb'), exist_ok=True)\n",
    "    os.makedirs(os.path.join(output_path,'depth'), exist_ok=True)\n",
    "    depth_file = open(os.path.join(output_path, 'depth.txt'), 'w')\n",
    "    rgb_file = open(os.path.join(output_path, 'rgb.txt'), 'w')\n",
    "    gt_filename = os.path.join('/media/cds-s/data/Datasets/Habitat/gt/',filename.split('/')[-1])\n",
    "    gt_filename = gt_filename[:gt_filename.rfind('.')] + '.txt'\n",
    "    gt_file = open(gt_filename, 'w')\n",
    "    rgb_file.close()\n",
    "    depth_file.close()\n",
    "    gt_file.close()\n",
    "    depth_file = open(os.path.join(output_path, 'depth.txt'), 'a')\n",
    "    rgb_file = open(os.path.join(output_path, 'rgb.txt'), 'a')\n",
    "    gt_file = open(gt_filename, 'a')\n",
    "    for i in range(3):\n",
    "        depth_file.write('ignore\\n')\n",
    "        rgb_file.write('ignore\\n')\n",
    "    for i in range(len(rgb)):\n",
    "        cv2.imwrite(os.path.join(output_path, 'rgb', str(i).zfill(6)+'.png'), rgb[i])\n",
    "        cv2.imwrite(os.path.join(output_path, 'depth', str(i).zfill(6)+'.exr'), depth[i])\n",
    "        rgb_file.write('{:.3f} '.format(i/10))\n",
    "        rgb_file.write('rgb/'+str(i).zfill(6)+'.png\\n')\n",
    "        depth_file.write('{:.3f} '.format(i/10))\n",
    "        depth_file.write('depth/'+str(i).zfill(6)+'.exr\\n')\n",
    "        gt_file.write('{:.3f} {:.8e} {:.8e} {:.8e} {:.8e} {:.8e} {:.8e} {:.8e}\\n'\\\n",
    "                      .format(i/10, -positions[i, 0], positions[i, 1], -positions[i, 2],\n",
    "                        rotations[i, 0], rotations[i, 1], rotations[i, 2], rotations[i, 3]))\n",
    "    rgb_file.close()\n",
    "    depth_file.close()\n",
    "    gt_file.close()"
   ]
  },
  {
   "cell_type": "code",
   "execution_count": null,
   "metadata": {},
   "outputs": [],
   "source": []
  }
 ],
 "metadata": {
  "kernelspec": {
   "display_name": "Python 3",
   "language": "python",
   "name": "python3"
  },
  "language_info": {
   "codemirror_mode": {
    "name": "ipython",
    "version": 3
   },
   "file_extension": ".py",
   "mimetype": "text/x-python",
   "name": "python",
   "nbconvert_exporter": "python",
   "pygments_lexer": "ipython3",
   "version": "3.7.7"
  }
 },
 "nbformat": 4,
 "nbformat_minor": 4
}
