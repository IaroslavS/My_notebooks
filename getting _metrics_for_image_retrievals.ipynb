{
 "cells": [
  {
   "cell_type": "code",
   "execution_count": 2,
   "metadata": {},
   "outputs": [],
   "source": [
    "from sklearn.metrics.pairwise import cosine_similarity\n",
    "import numpy as np"
   ]
  },
  {
   "cell_type": "code",
   "execution_count": 3,
   "metadata": {},
   "outputs": [],
   "source": [
    "filename = '/home/cds-s/Downloads/kapture_Ap-Gem (1).txt'"
   ]
  },
  {
   "cell_type": "code",
   "execution_count": 18,
   "metadata": {},
   "outputs": [],
   "source": [
    "filename = '/media/cds-s/data/Datasets/Habitat/ORB+DBOW2/scores_DBoW2_all_maps.txt'"
   ]
  },
  {
   "cell_type": "code",
   "execution_count": 54,
   "metadata": {},
   "outputs": [],
   "source": [
    "filename = '/media/cds-s/data/Datasets/Habitat/NetVLAD_with_metrics.txt'"
   ]
  },
  {
   "cell_type": "code",
   "execution_count": 12,
   "metadata": {},
   "outputs": [],
   "source": [
    "filename = '/media/cds-s/data/Datasets/Habitat/HF_Net_output/HF-Net_all_maps.txt'"
   ]
  },
  {
   "cell_type": "code",
   "execution_count": 3,
   "metadata": {},
   "outputs": [],
   "source": [
    "filename = '/media/cds-s/data/Datasets/Habitat/NetVLAD/NetVLAD_all_maps.txt'"
   ]
  },
  {
   "cell_type": "code",
   "execution_count": 6,
   "metadata": {},
   "outputs": [],
   "source": [
    "filename = '/media/cds-s/data/Datasets/Habitat/Patch-NetVLAD/PatchNetVLAD_top1.txt'"
   ]
  },
  {
   "cell_type": "code",
   "execution_count": 7,
   "metadata": {},
   "outputs": [],
   "source": [
    "filename = '/media/cds-s/data/Datasets/Habitat/FBoW/scores_FBoW_val_map.txt'"
   ]
  },
  {
   "cell_type": "code",
   "execution_count": 4,
   "metadata": {},
   "outputs": [],
   "source": [
    "filename = '/media/cds-s/data/Datasets/Habitat/FBoW/scores_FBoW_all_maps.txt'"
   ]
  },
  {
   "cell_type": "code",
   "execution_count": 8,
   "metadata": {},
   "outputs": [
    {
     "name": "stdout",
     "output_type": "stream",
     "text": [
      "/media/cds-s/data/Datasets/Habitat/FBoW/scores_FBoW_val_map.txt\n",
      "recall = 0.9439707673568819\n",
      "precision = 0.9639303482587065\n",
      "accuracy = 0.8157894736842105\n"
     ]
    }
   ],
   "source": [
    "data = {}\n",
    "file = open(filename)\n",
    "tp = 0\n",
    "tn = 0\n",
    "fp = 0\n",
    "fn = 0\n",
    "threshold = 0.01\n",
    "for line in file.readlines():\n",
    "    line = line.rstrip('\\n')\n",
    "    if line.find('#') != -1:\n",
    "        continue\n",
    "    if len(line.split(' ')) == 3:\n",
    "        query_image, database_image, cos_metric = line.split(' ')\n",
    "    elif len(line.split(' ')) == 4:\n",
    "        query_image, database_image, L2_metric, cos_metric = line.split(' ')\n",
    "    query_image = query_image.rstrip('.png,')\n",
    "    database_image = database_image.rstrip('.png,')\n",
    "    query_image = query_image.lstrip('testing/')\n",
    "    database_image = database_image.lstrip('/training/')\n",
    "    if not(query_image in data.keys()):\n",
    "        data[query_image] = database_image\n",
    "        num_point_query = query_image.split('_')[1]\n",
    "        num_point_database = database_image.split('_')[1]\n",
    "        map_name_query = query_image.split('_')[0]\n",
    "        map_name_database = database_image.split('_')[0]\n",
    "        if float(cos_metric) > threshold:\n",
    "            if (num_point_database == num_point_query) and (map_name_query == map_name_database):\n",
    "                tp += 1\n",
    "            else:\n",
    "#                 print(line)\n",
    "#                 print(num_point_query)\n",
    "#                 print(num_point_database)\n",
    "#                 print(map_name_query)\n",
    "#                 print(map_name_database)\n",
    "                fp += 1\n",
    "        elif float(cos_metric) < threshold:\n",
    "            if num_point_database != num_point_query or map_name_query != map_name_database:\n",
    "                tn += 1\n",
    "            else:\n",
    "                fn += 1\n",
    "precision = tp / (tp + fp)\n",
    "recall = tp / (tp + fn)\n",
    "tpr = tp / (tp + tn)\n",
    "accuracy = tp / len(data.keys())\n",
    "# false_alarm_ratio = fp / (fp + tn)\n",
    "print(filename)\n",
    "print(f\"recall = {recall}\")\n",
    "print(f\"precision = {precision}\")\n",
    "# print(f\"tp = {tp}\")\n",
    "print(f\"accuracy = {accuracy}\")"
   ]
  },
  {
   "cell_type": "code",
   "execution_count": null,
   "metadata": {},
   "outputs": [],
   "source": []
  }
 ],
 "metadata": {
  "kernelspec": {
   "display_name": "Python 3",
   "language": "python",
   "name": "python3"
  },
  "language_info": {
   "codemirror_mode": {
    "name": "ipython",
    "version": 3
   },
   "file_extension": ".py",
   "mimetype": "text/x-python",
   "name": "python",
   "nbconvert_exporter": "python",
   "pygments_lexer": "ipython3",
   "version": "3.7.11"
  }
 },
 "nbformat": 4,
 "nbformat_minor": 4
}
