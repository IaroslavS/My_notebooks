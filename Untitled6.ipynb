{
 "cells": [
  {
   "cell_type": "code",
   "execution_count": 1,
   "metadata": {},
   "outputs": [],
   "source": [
    "import numpy as np\n",
    "import os\n",
    "import cv2\n",
    "from tqdm import tqdm\n",
    "from PIL import Image"
   ]
  },
  {
   "cell_type": "code",
   "execution_count": 4,
   "metadata": {},
   "outputs": [
    {
     "name": "stderr",
     "output_type": "stream",
     "text": [
      "1053it [00:49, 21.19it/s]\n"
     ]
    }
   ],
   "source": [
    "input_directory = '/media/cds-s/data/Datasets/Husky-NKBVS/20_slow_snake_1_2020-04-24-17-45-56/depth_maps_corrected/'\n",
    "output_directory = '/media/cds-s/data/Datasets/Husky-NKBVS/20_slow_snake_1_2020-04-24-17-45-56/test_RGBD/depth'\n",
    "for i, filename in tqdm(enumerate(sorted(os.listdir(input_directory)))):\n",
    "    data = np.load(os.path.join(input_directory, filename))\n",
    "    data[data != data] = 0\n",
    "    data[data == -1] = 0\n",
    "    data[data == np.inf] = 0\n",
    "    cv2.imwrite(os.path.join(output_directory, str(i).zfill(6)+'.exr'), data)"
   ]
  },
  {
   "cell_type": "code",
   "execution_count": 22,
   "metadata": {},
   "outputs": [
    {
     "name": "stderr",
     "output_type": "stream",
     "text": [
      "3906it [05:14, 12.42it/s]\n"
     ]
    }
   ],
   "source": [
    "input_directory = '/media/cds-s/data/Datasets/Husky-NKBVS/15_loop_counter_clockwise_2020-04-24-19-11-15/RGBD/rgb/'\n",
    "output_directory = '/media/cds-s/data/Datasets/Husky-NKBVS/15_loop_counter_clockwise_2020-04-24-19-11-15/test_RGBD/rgb/'\n",
    "for i, filename in tqdm(enumerate(sorted(os.listdir(input_directory)))):\n",
    "    im = Image.open(os.path.join(input_directory, filename))\n",
    "    im_resized = im.resize((1200, 592))\n",
    "    im_resized.save(os.path.join(output_directory, filename))"
   ]
  },
  {
   "cell_type": "code",
   "execution_count": 15,
   "metadata": {},
   "outputs": [
    {
     "data": {
      "text/plain": [
       "(592, 1200)"
      ]
     },
     "execution_count": 15,
     "metadata": {},
     "output_type": "execute_result"
    }
   ],
   "source": [
    "data.shape"
   ]
  },
  {
   "cell_type": "code",
   "execution_count": null,
   "metadata": {},
   "outputs": [],
   "source": []
  }
 ],
 "metadata": {
  "kernelspec": {
   "display_name": "Python 3",
   "language": "python",
   "name": "python3"
  },
  "language_info": {
   "codemirror_mode": {
    "name": "ipython",
    "version": 3
   },
   "file_extension": ".py",
   "mimetype": "text/x-python",
   "name": "python",
   "nbconvert_exporter": "python",
   "pygments_lexer": "ipython3",
   "version": "3.7.7"
  }
 },
 "nbformat": 4,
 "nbformat_minor": 4
}
