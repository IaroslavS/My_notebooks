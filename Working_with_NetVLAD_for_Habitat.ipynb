{
 "cells": [
  {
   "cell_type": "code",
   "execution_count": 2,
   "metadata": {},
   "outputs": [],
   "source": [
    "import json\n",
    "import os\n",
    "import matplotlib\n",
    "import matplotlib.pyplot as plt\n",
    "import numpy as np\n",
    "from pathlib import Path\n",
    "import cv2\n",
    "import PIL\n",
    "from PIL import Image\n",
    "from PIL import ImageFont, ImageDraw\n",
    "from tqdm import tqdm"
   ]
  },
  {
   "cell_type": "markdown",
   "metadata": {},
   "source": [
    "# Preparing metadata for the dataset for the NetVLAD"
   ]
  },
  {
   "cell_type": "code",
   "execution_count": 11,
   "metadata": {},
   "outputs": [],
   "source": [
    "root_path = '/media/cds-s/data/Datasets/Habitat/extracted_HPointLoc/1LXtFkjw3qL_point0/'"
   ]
  },
  {
   "cell_type": "code",
   "execution_count": 12,
   "metadata": {},
   "outputs": [],
   "source": [
    "data = {}\n",
    "data['dbImage'] = []\n",
    "data['qImage'] = []"
   ]
  },
  {
   "cell_type": "code",
   "execution_count": 20,
   "metadata": {},
   "outputs": [],
   "source": [
    "exts = ['*.jpg', '*.png', '*.jpeg', '*.JPG', '*.PNG']\n",
    "paths = []\n",
    "for ext in exts:\n",
    "    paths += list(Path(root_path).glob('**/'+ext))"
   ]
  },
  {
   "cell_type": "code",
   "execution_count": 19,
   "metadata": {},
   "outputs": [
    {
     "data": {
      "text/plain": [
       "PosixPath('images/1LXtFkjw3qL_point13_query_0013.png')"
      ]
     },
     "execution_count": 19,
     "metadata": {},
     "output_type": "execute_result"
    }
   ],
   "source": [
    "paths[0].relative_to(Path(root_path))"
   ]
  },
  {
   "cell_type": "code",
   "execution_count": 8,
   "metadata": {},
   "outputs": [],
   "source": [
    "for filename in sorted(os.listdir(root_path)):\n",
    "    if filename.find('.png') == -1:\n",
    "        continue\n",
    "    if filename.find('database') != -1:\n",
    "        data['dbImage'].append(os.path.join(filename))\n",
    "    if filename.find('query') != -1:\n",
    "        data['qImage'].append(os.path.join(filename))\n",
    "data['numDb'] = len(data['dbImage'])\n",
    "data['numQ'] = len(data['qImage'])"
   ]
  },
  {
   "cell_type": "code",
   "execution_count": 9,
   "metadata": {},
   "outputs": [],
   "source": [
    "with open('/media/cds-s/data/Datasets/Habitat/metadata.json', 'w') as fp:\n",
    "    json.dump(data, fp)"
   ]
  },
  {
   "cell_type": "markdown",
   "metadata": {},
   "source": [
    "# Visualizing results"
   ]
  },
  {
   "cell_type": "code",
   "execution_count": 80,
   "metadata": {},
   "outputs": [],
   "source": [
    "def read_image(path):\n",
    "    image = cv2.imread(str(path))\n",
    "    if len(image.shape) == 3:\n",
    "        image = image[:, :, ::-1]\n",
    "    return image"
   ]
  },
  {
   "cell_type": "code",
   "execution_count": 81,
   "metadata": {},
   "outputs": [],
   "source": [
    "def plot_images(imgs, titles=None, cmaps='gray', dpi=100, pad=.5,\n",
    "                adaptive=True):\n",
    "    \"\"\"Plot a set of images horizontally.\n",
    "    Args:\n",
    "        imgs: a list of NumPy or PyTorch images, RGB (H, W, 3) or mono (H, W).\n",
    "        titles: a list of strings, as titles for each image.\n",
    "        cmaps: colormaps for monochrome images.\n",
    "        adaptive: whether the figure size should fit the image aspect ratios.\n",
    "    \"\"\"\n",
    "    n = len(imgs)\n",
    "    if not isinstance(cmaps, (list, tuple)):\n",
    "        cmaps = [cmaps] * n\n",
    "\n",
    "    if adaptive:\n",
    "        ratios = [i.shape[1] / i.shape[0] for i in imgs]  # W / H\n",
    "    else:\n",
    "        ratios = [4/3] * n\n",
    "    figsize = [sum(ratios)*4.5, 4.5]\n",
    "    fig, ax = plt.subplots(\n",
    "        1, n, figsize=figsize, dpi=dpi, gridspec_kw={'width_ratios': ratios})\n",
    "    if n == 1:\n",
    "        ax = [ax]\n",
    "    for i in range(n):\n",
    "        ax[i].imshow(imgs[i], cmap=plt.get_cmap(cmaps[i]))\n",
    "        ax[i].get_yaxis().set_ticks([])\n",
    "        ax[i].get_xaxis().set_ticks([])\n",
    "        ax[i].set_axis_off()\n",
    "        for spine in ax[i].spines.values():  # remove frame\n",
    "            spine.set_visible(False)\n",
    "        if titles:\n",
    "            ax[i].set_title(titles[i])\n",
    "    fig.tight_layout(pad=pad)"
   ]
  },
  {
   "cell_type": "code",
   "execution_count": 3,
   "metadata": {},
   "outputs": [],
   "source": [
    "input_json_file = '/media/cds-s/data/Datasets/Habitat/results.json'"
   ]
  },
  {
   "cell_type": "code",
   "execution_count": 4,
   "metadata": {},
   "outputs": [],
   "source": [
    "with open(input_json_file) as json_file:\n",
    "    results = json.load(json_file)"
   ]
  },
  {
   "cell_type": "code",
   "execution_count": 19,
   "metadata": {},
   "outputs": [
    {
     "data": {
      "text/plain": [
       "'/home/cds-s'"
      ]
     },
     "execution_count": 19,
     "metadata": {},
     "output_type": "execute_result"
    }
   ],
   "source": [
    "pwd"
   ]
  },
  {
   "cell_type": "code",
   "execution_count": 20,
   "metadata": {},
   "outputs": [
    {
     "name": "stdout",
     "output_type": "stream",
     "text": [
      "mkdir: cannot create directory ‘matches’: File exists\r\n"
     ]
    }
   ],
   "source": [
    "!mkdir matches"
   ]
  },
  {
   "cell_type": "code",
   "execution_count": 24,
   "metadata": {
    "scrolled": false
   },
   "outputs": [
    {
     "name": "stderr",
     "output_type": "stream",
     "text": [
      "100%|██████████| 950/950 [00:47<00:00, 19.81it/s]\n"
     ]
    }
   ],
   "source": [
    "count = 0\n",
    "for query_image_filename, prediction_filename in tqdm(results.items()):\n",
    "    count = count + 1\n",
    "    \n",
    "    query_image_filename = os.path.relpath(query_image_filename, '/datasets')\n",
    "    prediction_filename_1, prediction_filename_2, prediction_filename_3 = prediction_filename[:3]\n",
    "    \n",
    "    prediction_filename_1 = os.path.relpath(prediction_filename_1, '/datasets')\n",
    "    prediction_filename_2 = os.path.relpath(prediction_filename_2, '/datasets')\n",
    "    prediction_filename_3 = os.path.relpath(prediction_filename_3, '/datasets')\n",
    "    \n",
    "    query_image_filename = os.path.join('/media/cds-s/data/Datasets', query_image_filename)\n",
    "    prediction_filename_1 = os.path.join('/media/cds-s/data/Datasets', prediction_filename_1)\n",
    "    prediction_filename_2 = os.path.join('/media/cds-s/data/Datasets', prediction_filename_2)\n",
    "    prediction_filename_3 = os.path.join('/media/cds-s/data/Datasets', prediction_filename_3)\n",
    "    \n",
    "    image1 = Image.open(query_image_filename)\n",
    "    image2 = Image.open(prediction_filename_1)\n",
    "    image3 = Image.open(prediction_filename_2)\n",
    "    image4 = Image.open(prediction_filename_3)\n",
    "    \n",
    "    image1_size = image1.size\n",
    "    \n",
    "    new_image = Image.new('RGB',(4*image1_size[0], image1_size[1]), (250,250,250))\n",
    "    new_image.paste(image1,(0,0))\n",
    "    new_image.paste(image2,(image1_size[0],0))\n",
    "    new_image.paste(image3,(2*image1_size[0],0))\n",
    "    new_image.paste(image4,(3*image1_size[0],0))\n",
    "    \n",
    "    draw = ImageDraw.Draw(new_image)\n",
    "    \n",
    "    font = ImageFont.truetype('/usr/share/fonts/truetype/liberation/LiberationMono-Bold.ttf', 12, encoding=\"unic\")\n",
    "    \n",
    "#     query_image = read_image(query_image_filename)\n",
    "#     prediction_image = read_image(prediction_filename)\n",
    "#     plot_images([query_image, prediction_image])\n",
    "\n",
    "    draw.text((0, 0),query_image_filename.split('/')[-1],(255,255,255),font=font)\n",
    "    draw.text((image1.size[0], 0),\"{}\".format(prediction_filename_1.split('/')[-1]),(255,255,255),font=font)\n",
    "    draw.text((2*image1.size[0], 0),\"{}\".format(prediction_filename_2.split('/')[-1]),(255,255,255),font=font)\n",
    "    draw.text((3*image1.size[0], 0),\"{}\".format(prediction_filename_3.split('/')[-1]),(255,255,255),font=font)\n",
    "    new_image.save('matches/{}.png'.format(query_image_filename.split('/')[-1]),'PNG')\n",
    "\n",
    "#     if count == 20:\n",
    "#         break"
   ]
  },
  {
   "cell_type": "code",
   "execution_count": 86,
   "metadata": {},
   "outputs": [
    {
     "data": {
      "text/plain": [
       "'/media/cds-s/data/Datasets/Habitat/1LXtFkjw3qL_point0/images/1LXtFkjw3qL_point0/around_0009.png'"
      ]
     },
     "execution_count": 86,
     "metadata": {},
     "output_type": "execute_result"
    }
   ],
   "source": [
    "query_image_filename"
   ]
  },
  {
   "cell_type": "code",
   "execution_count": 89,
   "metadata": {},
   "outputs": [
    {
     "data": {
      "text/plain": [
       "'/media/cds-s/data/Datasets/fgdfg'"
      ]
     },
     "execution_count": 89,
     "metadata": {},
     "output_type": "execute_result"
    }
   ],
   "source": [
    "os.path.join('/media/cds-s/data/Datasets', 'fgdfg')"
   ]
  },
  {
   "cell_type": "code",
   "execution_count": 121,
   "metadata": {},
   "outputs": [
    {
     "data": {
      "text/plain": [
       "'/home/cds-s'"
      ]
     },
     "execution_count": 121,
     "metadata": {},
     "output_type": "execute_result"
    }
   ],
   "source": [
    "pwd"
   ]
  },
  {
   "cell_type": "code",
   "execution_count": 13,
   "metadata": {},
   "outputs": [],
   "source": [
    "data = np.load('/media/cds-s/data/Datasets/Habitat/HF_Net_output/glb/1LXtFkjw3qL_point0_database_0000.npy')"
   ]
  },
  {
   "cell_type": "code",
   "execution_count": 14,
   "metadata": {},
   "outputs": [
    {
     "data": {
      "text/plain": [
       "array([ 0.01135713, -0.00560202, -0.00253877, ...,  0.01415169,\n",
       "       -0.01611472, -0.01287946], dtype=float32)"
      ]
     },
     "execution_count": 14,
     "metadata": {},
     "output_type": "execute_result"
    }
   ],
   "source": [
    "data"
   ]
  },
  {
   "cell_type": "code",
   "execution_count": 15,
   "metadata": {},
   "outputs": [
    {
     "data": {
      "text/plain": [
       "(4096,)"
      ]
     },
     "execution_count": 15,
     "metadata": {},
     "output_type": "execute_result"
    }
   ],
   "source": [
    "data.shape"
   ]
  },
  {
   "cell_type": "code",
   "execution_count": 16,
   "metadata": {},
   "outputs": [
    {
     "data": {
      "text/plain": [
       "1.0000001192092824"
      ]
     },
     "execution_count": 16,
     "metadata": {},
     "output_type": "execute_result"
    }
   ],
   "source": [
    "np.sum(data**2)**0.5"
   ]
  },
  {
   "cell_type": "code",
   "execution_count": null,
   "metadata": {},
   "outputs": [],
   "source": []
  }
 ],
 "metadata": {
  "kernelspec": {
   "display_name": "Python 3",
   "language": "python",
   "name": "python3"
  },
  "language_info": {
   "codemirror_mode": {
    "name": "ipython",
    "version": 3
   },
   "file_extension": ".py",
   "mimetype": "text/x-python",
   "name": "python",
   "nbconvert_exporter": "python",
   "pygments_lexer": "ipython3",
   "version": "3.7.10"
  }
 },
 "nbformat": 4,
 "nbformat_minor": 4
}
