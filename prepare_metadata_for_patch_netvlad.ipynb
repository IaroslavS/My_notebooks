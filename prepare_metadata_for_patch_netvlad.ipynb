{
 "cells": [
  {
   "cell_type": "code",
   "execution_count": 33,
   "metadata": {},
   "outputs": [],
   "source": [
    "import os\n",
    "import json\n",
    "from pathlib import Path"
   ]
  },
  {
   "cell_type": "code",
   "execution_count": 34,
   "metadata": {},
   "outputs": [],
   "source": [
    "with open('/media/cds-s/data3/Datasets/Habitat/metadata_db_query_all_maps.json') as json_file:\n",
    "    metadata = json.load(json_file)"
   ]
  },
  {
   "cell_type": "code",
   "execution_count": 37,
   "metadata": {},
   "outputs": [],
   "source": [
    "root_path = \"/media/cds-s/data3/Datasets/Habitat/extracted_HPointLoc/\"\n",
    "\n",
    "# exts = ['*.jpg', '*.png', '*.jpeg', '*.JPG', '*.PNG']\n",
    "# paths = []\n",
    "# for ext in exts:\n",
    "#     paths += list(Path(root_path).glob('**/'+ext))\n",
    "\n",
    "#open text file\n",
    "text_file = open(\"/home/cds-s/workspace/Patch-NetVLAD/patchnetvlad/dataset_imagenames/hpointloc_imageNames_query.txt\", \"w\")\n",
    "\n",
    "for path in metadata[\"dbImage\"]:\n",
    "    text_file.write(str(path)+\"\\n\")\n",
    " \n",
    "# close file\n",
    "text_file.close()"
   ]
  },
  {
   "cell_type": "code",
   "execution_count": 29,
   "metadata": {},
   "outputs": [
    {
     "data": {
      "text/plain": [
       "dict_keys(['dbImage', 'qImage', 'numDb', 'numQ'])"
      ]
     },
     "execution_count": 29,
     "metadata": {},
     "output_type": "execute_result"
    }
   ],
   "source": [
    "metadata.keys()"
   ]
  },
  {
   "cell_type": "code",
   "execution_count": null,
   "metadata": {},
   "outputs": [],
   "source": []
  }
 ],
 "metadata": {
  "kernelspec": {
   "display_name": "Python 3",
   "language": "python",
   "name": "python3"
  },
  "language_info": {
   "codemirror_mode": {
    "name": "ipython",
    "version": 3
   },
   "file_extension": ".py",
   "mimetype": "text/x-python",
   "name": "python",
   "nbconvert_exporter": "python",
   "pygments_lexer": "ipython3",
   "version": "3.7.11"
  }
 },
 "nbformat": 4,
 "nbformat_minor": 4
}
